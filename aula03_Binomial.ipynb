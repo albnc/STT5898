{
 "cells": [
  {
   "cell_type": "markdown",
   "metadata": {
    "colab_type": "text",
    "id": "ktsKGUIIik-A"
   },
   "source": [
    "# **STT5898 - Estatística aplicada à Engenharia de Transportes**\n",
    "\n",
    "#### *Prof. André Luiz Cunha*\n",
    "---"
   ]
  },
  {
   "cell_type": "markdown",
   "metadata": {},
   "source": [
    "# O QUE VIMOS ATÉ AQUI?\n",
    "\n",
    "- Amostragem\n",
    "\n",
    "\n",
    "- Explorando os dados\n",
    "    - Variáveis qualitativas\n",
    "    - Variáveis quantitativas\n",
    "\n",
    "\n",
    "- Medidas Descritivas\n",
    "    - Média\n",
    "    - Desvio Padrão\n",
    "    - Variância\n",
    "    - Intervalo\n",
    "    - Quartis e Percentis\n",
    "    - Box-plot\n",
    "\n",
    "\n",
    "- Planejamento de experimentos\n",
    "\n",
    "\n",
    "- Probabilidades"
   ]
  },
  {
   "cell_type": "markdown",
   "metadata": {
    "colab_type": "text",
    "id": "UJkuhXoeik-C"
   },
   "source": [
    "# MODELOS PROBABILÍSTICOS\n",
    "\n",
    "## Probabilidades\n"
   ]
  },
  {
   "cell_type": "markdown",
   "metadata": {},
   "source": [
    "<img src=\"\"\n",
    "     alt=\"\"\n",
    "     style=\"float: left; margin-right: 10px;\" />"
   ]
  },
  {
   "cell_type": "markdown",
   "metadata": {
    "colab": {},
    "colab_type": "code",
    "id": "u41Zr7M9nTCV"
   },
   "source": [
    "## Referências\n",
    "- VANDERPLAS, J. *Frequentism and Bayesianism*. 2014 [YouTube](https://youtu.be/KhAUfqhLakw)\n",
    "- VANDERPLAS, J. *Statistics for Hackers*. 2016 [YouTube](https://youtu.be/Iq9DzN6mvYA)\n",
    "- MA, E. J. *Bayesian Statistical Analysis with Python* 2017 [YouTube](https://youtu.be/p1IB4zWq9C8)\n",
    "- DEVLIN, T.; GUO, J.; KUNIN, D.; XIANG, D. *Seeing Theory*. 2018 [Web](https://seeing-theory.brown.edu/basic-probability/index.html) | [Book](https://seeing-theory.brown.edu/doc/seeing-theory.pdf)"
   ]
  }
 ],
 "metadata": {
  "colab": {
   "collapsed_sections": [],
   "name": "aula01_Pesquisa_Dados.ipynb",
   "provenance": [],
   "toc_visible": true,
   "version": "0.3.2"
  },
  "kernelspec": {
   "display_name": "Python 3",
   "language": "python",
   "name": "python3"
  },
  "language_info": {
   "codemirror_mode": {
    "name": "ipython",
    "version": 3
   },
   "file_extension": ".py",
   "mimetype": "text/x-python",
   "name": "python",
   "nbconvert_exporter": "python",
   "pygments_lexer": "ipython3",
   "version": "3.7.1"
  }
 },
 "nbformat": 4,
 "nbformat_minor": 2
}
