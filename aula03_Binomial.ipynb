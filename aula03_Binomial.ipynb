{
 "cells": [
  {
   "cell_type": "markdown",
   "metadata": {
    "colab_type": "text",
    "id": "ktsKGUIIik-A"
   },
   "source": [
    "# **STT5898 - Estatística aplicada à Engenharia de Transportes**\n",
    "\n",
    "#### *Prof. André Luiz Cunha*\n",
    "---"
   ]
  },
  {
   "cell_type": "markdown",
   "metadata": {},
   "source": [
    "# O QUE VIMOS ATÉ AQUI?\n",
    "\n",
    "- Amostragem\n",
    "\n",
    "\n",
    "- Explorando os dados\n",
    "    - Variáveis qualitativas\n",
    "    - Variáveis quantitativas\n",
    "\n",
    "\n",
    "- Medidas Descritivas\n",
    "    - Média\n",
    "    - Desvio Padrão\n",
    "    - Variância\n",
    "    - Intervalo\n",
    "    - Quartis e Percentis\n",
    "    - Box-plot\n",
    "\n",
    "\n",
    "- Planejamento de experimentos\n",
    "\n",
    "\n",
    "- Probabilidades"
   ]
  },
  {
   "cell_type": "markdown",
   "metadata": {
    "colab_type": "text",
    "id": "UJkuhXoeik-C"
   },
   "source": [
    "# MODELOS PROBABILÍSTICOS\n",
    "\n",
    "Na aula anterior, predominou o racicínio indutivo: com base na descrição dos dados observados (distribuição de frequências), procuramos fazer conjeturas sobre o universo (população) em estudo.\n",
    "\n",
    "Nesta aula, aplicaremos o inverso, raciocínio dedutivo, em que procuramos entender como poderão ocorrer resultados de uma variável, considerando certas suposições a respeito do problema em estudo.\n",
    "\n",
    "<img src=\"_imgs/ModelosProbabilisticos.png\"\n",
    "     alt=\"\"\n",
    "     style=\"float:left;height:300px\" />"
   ]
  },
  {
   "cell_type": "markdown",
   "metadata": {},
   "source": [
    "## Definições básicas\n",
    "\n",
    "> Os ***modelos probabilísticos*** são constituídos de certas hipóteses ou conjeturas sobre o problema em questão e constituem-se de duas partes:\n",
    "> 1. dos possíveos resultados\n",
    "> 2. de uma certa *lei* que nos diz quão provável é cada resultados"
   ]
  },
  {
   "cell_type": "markdown",
   "metadata": {},
   "source": [
    "### 1. Espaço amostral e eventos\n",
    "\n",
    "> ***Espaço amostral*** é o conjunto de todos os resultados possíveis do experimento e será denotado por $\\Omega$\n",
    "\n",
    "\n",
    "EXEMPLOS:\n",
    "\n",
    "- Lançar uma moeda.\n",
    "$\\Omega$ = {}\n",
    "\n",
    "- Lançar um dado.\n",
    "$\\Omega$ = {}\n",
    "\n",
    "- Numa escola, selecionar um aluno e medir a sua altura.\n",
    "$\\Omega$ = {}\n",
    "\n",
    "- Em certo bairro, selecionar dez famílias e verificar quantas utilizam algum programa de alimentação popular.\n",
    "$\\Omega$ = {}"
   ]
  },
  {
   "cell_type": "markdown",
   "metadata": {},
   "source": [
    "> ***Evento*** é um conjunto de resutados do experimento\n",
    "\n",
    "EXEMPLOS: \n",
    "\n",
    "- Lançamento de um dado. \n",
    "\n",
    "Evento A : ocorrer um número par no lançamento de dados.\n",
    "$A$ = {}\n",
    "\n",
    "- Medir a altura de um aluno\n",
    "\n",
    "Evento B : ocorrer um número par.\n",
    "$B$ = {}"
   ]
  },
  {
   "cell_type": "markdown",
   "metadata": {},
   "source": [
    "### 2. Probabilidades\n",
    "\n",
    "> ***Probabilidade*** é um valor entre 0 (zero) e 1 (um). A soma das probabilidades de todos os resultados possíveis do experimento deve ser igual a 1 (um). \n",
    "\n",
    "$$P(A) = \\frac{n_{A}}{N}$$\n",
    "\n",
    "\n",
    "EXEMPLO:\n",
    "- Seja uma urna com 5 bolas brancas, 3 vermelhas e 2 brancas. Selecionar uma bola ao acaso. Qual a probabilidade da bola selecionada ser branca ou vermelha?"
   ]
  },
  {
   "cell_type": "code",
   "execution_count": 7,
   "metadata": {},
   "outputs": [
    {
     "name": "stdout",
     "output_type": "stream",
     "text": [
      "P(branca ou vermelha) = ?\n"
     ]
    }
   ],
   "source": [
    "# P(branca ou vermelha) = ?\n",
    "print('P(branca ou vermelha) = ?' )"
   ]
  },
  {
   "cell_type": "markdown",
   "metadata": {},
   "source": [
    "> Dois eventos são independentes"
   ]
  },
  {
   "cell_type": "markdown",
   "metadata": {
    "colab": {},
    "colab_type": "code",
    "id": "u41Zr7M9nTCV"
   },
   "source": [
    "## Referências\n",
    "- VANDERPLAS, J. *Frequentism and Bayesianism*. 2014 [YouTube](https://youtu.be/KhAUfqhLakw)\n",
    "- VANDERPLAS, J. *Statistics for Hackers*. 2016 [YouTube](https://youtu.be/Iq9DzN6mvYA)\n",
    "- MA, E. J. *Bayesian Statistical Analysis with Python* 2017 [YouTube](https://youtu.be/p1IB4zWq9C8)\n",
    "- DEVLIN, T.; GUO, J.; KUNIN, D.; XIANG, D. *Seeing Theory*. 2018 [Web](https://seeing-theory.brown.edu/basic-probability/index.html) | [Book](https://seeing-theory.brown.edu/doc/seeing-theory.pdf)"
   ]
  }
 ],
 "metadata": {
  "colab": {
   "collapsed_sections": [],
   "name": "aula01_Pesquisa_Dados.ipynb",
   "provenance": [],
   "toc_visible": true,
   "version": "0.3.2"
  },
  "kernelspec": {
   "display_name": "Python 3",
   "language": "python",
   "name": "python3"
  },
  "language_info": {
   "codemirror_mode": {
    "name": "ipython",
    "version": 3
   },
   "file_extension": ".py",
   "mimetype": "text/x-python",
   "name": "python",
   "nbconvert_exporter": "python",
   "pygments_lexer": "ipython3",
   "version": "3.7.1"
  }
 },
 "nbformat": 4,
 "nbformat_minor": 2
}
