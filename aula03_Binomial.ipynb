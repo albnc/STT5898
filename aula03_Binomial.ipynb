{
 "cells": [
  {
   "cell_type": "markdown",
   "metadata": {
    "colab_type": "text",
    "id": "ktsKGUIIik-A"
   },
   "source": [
    "# **STT5898 - Estatística aplicada à Engenharia de Transportes**\n",
    "\n",
    "#### *Prof. André Luiz Cunha*\n",
    "---"
   ]
  },
  {
   "cell_type": "markdown",
   "metadata": {},
   "source": [
    "# O QUE VIMOS ATÉ AQUI?\n",
    "\n",
    "- Amostragem\n",
    "\n",
    "\n",
    "- Explorando os dados\n",
    "    - Variáveis qualitativas\n",
    "    - Variáveis quantitativas\n",
    "\n",
    "\n",
    "- Medidas Descritivas\n",
    "    - Média\n",
    "    - Desvio Padrão\n",
    "    - Variância\n",
    "    - Intervalo\n",
    "    - Quartis e Percentis\n",
    "    - Box-plot\n",
    "\n",
    "\n",
    "- Planejamento de experimentos\n",
    "\n",
    "\n",
    "- Probabilidades"
   ]
  },
  {
   "cell_type": "code",
   "execution_count": 15,
   "metadata": {},
   "outputs": [],
   "source": [
    "import numpy as np\n",
    "import matplotlib.pyplot as plt"
   ]
  },
  {
   "cell_type": "markdown",
   "metadata": {
    "colab_type": "text",
    "id": "UJkuhXoeik-C"
   },
   "source": [
    "# MODELOS PROBABILÍSTICOS\n",
    "\n",
    "Na aula anterior, predominou o racicínio indutivo: com base na descrição dos dados observados (distribuição de frequências), procuramos fazer conjeturas sobre o universo (população) em estudo.\n",
    "\n",
    "Nesta aula, aplicaremos o inverso, raciocínio dedutivo, em que procuramos entender como poderão ocorrer resultados de uma variável, considerando certas suposições a respeito do problema em estudo.\n",
    "\n",
    "<img src=\"_imgs/ModelosProbabilisticos.png\"\n",
    "     alt=\"\"\n",
    "     style=\"float:left;height:300px\" />"
   ]
  },
  {
   "cell_type": "markdown",
   "metadata": {},
   "source": [
    "## Definições básicas\n",
    "\n",
    "> Os ***modelos probabilísticos*** são constituídos de certas hipóteses ou conjeturas sobre o problema em questão e constituem-se de duas partes:\n",
    "> 1. dos possíveos resultados\n",
    "> 2. de uma certa *lei* que nos diz quão provável é cada resultados"
   ]
  },
  {
   "cell_type": "markdown",
   "metadata": {},
   "source": [
    "### 1. Espaço amostral e eventos\n",
    "\n",
    "> ***Espaço amostral*** é o conjunto de todos os resultados possíveis do experimento e será denotado por $\\Omega$\n",
    "\n",
    "\n",
    "EXEMPLOS:\n",
    "\n",
    "- Lançar uma moeda.\n",
    "$\\Omega$ = {}\n",
    "\n",
    "- Lançar um dado.\n",
    "$\\Omega$ = {}\n",
    "\n",
    "- Numa escola, selecionar um aluno e medir a sua altura.\n",
    "$\\Omega$ = {}\n",
    "\n",
    "- Em certo bairro, selecionar dez famílias e verificar quantas utilizam algum programa de alimentação popular.\n",
    "$\\Omega$ = {}"
   ]
  },
  {
   "cell_type": "markdown",
   "metadata": {},
   "source": [
    "> ***Evento*** é um conjunto de resutados do experimento\n",
    "\n",
    "EXEMPLOS: \n",
    "\n",
    "- Lançamento de um dado. \n",
    "\n",
    "Evento A : ocorrer um número par no lançamento de dados.\n",
    "$A$ = {}\n",
    "\n",
    "- Medir a altura de um aluno\n",
    "\n",
    "Evento B : ocorrer um número par.\n",
    "$B$ = {}"
   ]
  },
  {
   "cell_type": "markdown",
   "metadata": {},
   "source": [
    "### 2. Probabilidades\n",
    "\n",
    "> ***Probabilidade*** é um valor entre 0 (zero) e 1 (um). A soma das probabilidades de todos os resultados possíveis do experimento deve ser igual a 1 (um). \n",
    "\n",
    "$$P(A) = \\frac{n_{A}}{N}$$\n",
    "\n",
    "\n",
    "EXEMPLO:\n",
    "- Seja uma urna com 5 bolas brancas, 3 vermelhas e 2 pretas. Selecionar uma bola ao acaso. Qual a probabilidade da bola selecionada ser branca ou vermelha?"
   ]
  },
  {
   "cell_type": "code",
   "execution_count": 10,
   "metadata": {},
   "outputs": [
    {
     "name": "stdout",
     "output_type": "stream",
     "text": [
      "P(branca ou vermelha) = ?\n",
      "P(branca ou vermelha) = ?\n"
     ]
    }
   ],
   "source": [
    "# P(branca ou vermelha) = ?\n",
    "print('P(branca ou vermelha) = ?' )\n",
    "print('P(branca ou vermelha) = ?' )"
   ]
  },
  {
   "cell_type": "markdown",
   "metadata": {},
   "source": [
    "> Dois eventos são ***independentes*** quando a ocorrência de um deles não altera a probabilidade da ocorrência do outro.\n",
    "\n",
    "EXEMPLO:\n",
    "\n",
    "- Em uma urna com 5 bolas brancas, 3 vermelhas e 2 pretas. Ao selecionar duas bolas, com reposição, qual a probabilidade de ocorrer bolas vermelhas em ambas?"
   ]
  },
  {
   "cell_type": "code",
   "execution_count": 9,
   "metadata": {},
   "outputs": [
    {
     "name": "stdout",
     "output_type": "stream",
     "text": [
      "P(vermelha) e P(vermelha) = ?\n"
     ]
    }
   ],
   "source": [
    "print('P(vermelha) e P(vermelha) = ?' )"
   ]
  },
  {
   "cell_type": "markdown",
   "metadata": {},
   "source": [
    "#### 2.1 Distribuição de Frequências"
   ]
  },
  {
   "cell_type": "code",
   "execution_count": 46,
   "metadata": {},
   "outputs": [
    {
     "name": "stdout",
     "output_type": "stream",
     "text": [
      "[0 0 0 0 0 1 1 1 2 2]\n"
     ]
    },
    {
     "data": {
      "text/plain": [
       "(array([0.5, 0.3, 0.2]), array([0, 1, 2, 3]), <a list of 3 Patch objects>)"
      ]
     },
     "execution_count": 46,
     "metadata": {},
     "output_type": "execute_result"
    },
    {
     "data": {
      "image/png": "[encoded data removed]",
      "text/plain": [
       "<Figure size 432x288 with 1 Axes>"
      ]
     },
     "metadata": {
      "needs_background": "light"
     },
     "output_type": "display_data"
    }
   ],
   "source": [
    "#Distribuição de frequencias\n",
    "'0 - branca'\n",
    "'1 - vermelha'\n",
    "'2 - preta'\n",
    "\n",
    "universo = np.array([0,0,0,0,0,1,1,1,2,2])\n",
    "print(universo)\n",
    "\n",
    "plt.hist(universo,bins=[0,1,2,3],rwidth=.5,align='left', weights=np.full(universo.shape, 1. / universo.size))"
   ]
  },
  {
   "cell_type": "markdown",
   "metadata": {},
   "source": [
    "#### 2.2 Distribuição Acumulada de Frequências"
   ]
  },
  {
   "cell_type": "code",
   "execution_count": 49,
   "metadata": {},
   "outputs": [
    {
     "data": {
      "text/plain": [
       "(array([0.5, 0.8, 1. ]), array([0, 1, 2, 3]), <a list of 1 Patch objects>)"
      ]
     },
     "execution_count": 49,
     "metadata": {},
     "output_type": "execute_result"
    },
    {
     "data": {
      "image/png": "[encoded data removed]",
      "text/plain": [
       "<Figure size 432x288 with 1 Axes>"
      ]
     },
     "metadata": {
      "needs_background": "light"
     },
     "output_type": "display_data"
    }
   ],
   "source": [
    "# Função de Distribuição Acumulada\n",
    "plt.hist(universo,bins=[0,1,2,3],rwidth=.5,align='left', weights=np.full(universo.shape, 1. / universo.size))\n",
    "plt.hist(universo,bins=[0,1,2,3],rwidth=.5,align='left', weights=np.full(universo.shape, 1. / universo.size),cumulative=True,histtype='step')"
   ]
  },
  {
   "cell_type": "markdown",
   "metadata": {},
   "source": [
    "#### 2.3 Função Densidade de Probabilidades\n",
    "\n",
    "Usada para variáveis aleatórias contínuas. A principal propriedade é:\n",
    "\n",
    "$$\\int_{-\\infty}^{\\infty}f(x)dx = 1$$"
   ]
  },
  {
   "cell_type": "code",
   "execution_count": 51,
   "metadata": {},
   "outputs": [
    {
     "data": {
      "text/plain": [
       "(array([0.5, 0.3, 0.2]), array([0, 1, 2, 3]), <a list of 3 Patch objects>)"
      ]
     },
     "execution_count": 51,
     "metadata": {},
     "output_type": "execute_result"
    },
    {
     "data": {
      "image/png": "[encoded data removed]",
      "text/plain": [
       "<Figure size 432x288 with 1 Axes>"
      ]
     },
     "metadata": {
      "needs_background": "light"
     },
     "output_type": "display_data"
    }
   ],
   "source": [
    "# Função de Distribuição Acumulada\n",
    "plt.hist(universo,bins=[0,1,2,3],rwidth=.5,align='left', density=True)"
   ]
  },
  {
   "cell_type": "markdown",
   "metadata": {
    "colab": {},
    "colab_type": "code",
    "id": "u41Zr7M9nTCV"
   },
   "source": [
    "## Referências\n",
    "\n",
    "- BARBETTA, P. A. *Estatística aplicada à Ciências Sociais*. 2014\n",
    "- DEVLIN, T.; GUO, J.; KUNIN, D.; XIANG, D. *Seeing Theory*. 2018 [Web](https://seeing-theory.brown.edu/basic-probability/index.html) | [Book](https://seeing-theory.brown.edu/doc/seeing-theory.pdf)"
   ]
  },
  {
   "cell_type": "code",
   "execution_count": null,
   "metadata": {},
   "outputs": [],
   "source": []
  }
 ],
 "metadata": {
  "colab": {
   "collapsed_sections": [],
   "name": "aula01_Pesquisa_Dados.ipynb",
   "provenance": [],
   "toc_visible": true,
   "version": "0.3.2"
  },
  "kernelspec": {
   "display_name": "Python 3",
   "language": "python",
   "name": "python3"
  },
  "language_info": {
   "codemirror_mode": {
    "name": "ipython",
    "version": 3
   },
   "file_extension": ".py",
   "mimetype": "text/x-python",
   "name": "python",
   "nbconvert_exporter": "python",
   "pygments_lexer": "ipython3",
   "version": "3.7.3"
  }
 },
 "nbformat": 4,
 "nbformat_minor": 2
}
