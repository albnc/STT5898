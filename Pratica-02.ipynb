{
 "cells": [
  {
   "cell_type": "code",
   "execution_count": 1,
   "metadata": {},
   "outputs": [],
   "source": [
    "import pandas as pd\n",
    "import numpy as np\n",
    "import matplotlib.pyplot as plt\n",
    "%matplotlib inline"
   ]
  },
  {
   "cell_type": "markdown",
   "metadata": {},
   "source": [
    "# Database\n",
    "\n",
    "## Importing raw database"
   ]
  },
  {
   "cell_type": "code",
   "execution_count": 2,
   "metadata": {},
   "outputs": [
    {
     "data": {
      "text/html": [
       "<div>\n",
       "<style scoped>\n",
       "    .dataframe tbody tr th:only-of-type {\n",
       "        vertical-align: middle;\n",
       "    }\n",
       "\n",
       "    .dataframe tbody tr th {\n",
       "        vertical-align: top;\n",
       "    }\n",
       "\n",
       "    .dataframe thead th {\n",
       "        text-align: right;\n",
       "    }\n",
       "</style>\n",
       "<table border=\"1\" class=\"dataframe\">\n",
       "  <thead>\n",
       "    <tr style=\"text-align: right;\">\n",
       "      <th></th>\n",
       "      <th>Gender</th>\n",
       "      <th>Height</th>\n",
       "      <th>Weight</th>\n",
       "    </tr>\n",
       "  </thead>\n",
       "  <tbody>\n",
       "    <tr>\n",
       "      <th>0</th>\n",
       "      <td>Male</td>\n",
       "      <td>73.847017</td>\n",
       "      <td>241.893563</td>\n",
       "    </tr>\n",
       "    <tr>\n",
       "      <th>1</th>\n",
       "      <td>Male</td>\n",
       "      <td>68.781904</td>\n",
       "      <td>162.310473</td>\n",
       "    </tr>\n",
       "    <tr>\n",
       "      <th>2</th>\n",
       "      <td>Male</td>\n",
       "      <td>74.110105</td>\n",
       "      <td>212.740856</td>\n",
       "    </tr>\n",
       "    <tr>\n",
       "      <th>3</th>\n",
       "      <td>Male</td>\n",
       "      <td>71.730978</td>\n",
       "      <td>220.042470</td>\n",
       "    </tr>\n",
       "    <tr>\n",
       "      <th>4</th>\n",
       "      <td>Male</td>\n",
       "      <td>69.881796</td>\n",
       "      <td>206.349801</td>\n",
       "    </tr>\n",
       "  </tbody>\n",
       "</table>\n",
       "</div>"
      ],
      "text/plain": [
       "  Gender     Height      Weight\n",
       "0   Male  73.847017  241.893563\n",
       "1   Male  68.781904  162.310473\n",
       "2   Male  74.110105  212.740856\n",
       "3   Male  71.730978  220.042470\n",
       "4   Male  69.881796  206.349801"
      ]
     },
     "execution_count": 2,
     "metadata": {},
     "output_type": "execute_result"
    }
   ],
   "source": [
    "df = pd.read_csv(\"_data/weight-height.csv\")\n",
    "df.head()"
   ]
  },
  {
   "cell_type": "markdown",
   "metadata": {},
   "source": [
    "## Add new variables"
   ]
  },
  {
   "cell_type": "code",
   "execution_count": 3,
   "metadata": {},
   "outputs": [
    {
     "data": {
      "text/html": [
       "<div>\n",
       "<style scoped>\n",
       "    .dataframe tbody tr th:only-of-type {\n",
       "        vertical-align: middle;\n",
       "    }\n",
       "\n",
       "    .dataframe tbody tr th {\n",
       "        vertical-align: top;\n",
       "    }\n",
       "\n",
       "    .dataframe thead th {\n",
       "        text-align: right;\n",
       "    }\n",
       "</style>\n",
       "<table border=\"1\" class=\"dataframe\">\n",
       "  <thead>\n",
       "    <tr style=\"text-align: right;\">\n",
       "      <th></th>\n",
       "      <th>Gender</th>\n",
       "      <th>Height</th>\n",
       "      <th>Weight</th>\n",
       "      <th>Altura</th>\n",
       "      <th>Peso</th>\n",
       "      <th>IMC</th>\n",
       "    </tr>\n",
       "  </thead>\n",
       "  <tbody>\n",
       "    <tr>\n",
       "      <th>0</th>\n",
       "      <td>Male</td>\n",
       "      <td>73.847017</td>\n",
       "      <td>241.893563</td>\n",
       "      <td>1.875714</td>\n",
       "      <td>109.720985</td>\n",
       "      <td>31.185761</td>\n",
       "    </tr>\n",
       "    <tr>\n",
       "      <th>1</th>\n",
       "      <td>Male</td>\n",
       "      <td>68.781904</td>\n",
       "      <td>162.310473</td>\n",
       "      <td>1.747060</td>\n",
       "      <td>73.622732</td>\n",
       "      <td>24.121044</td>\n",
       "    </tr>\n",
       "    <tr>\n",
       "      <th>2</th>\n",
       "      <td>Male</td>\n",
       "      <td>74.110105</td>\n",
       "      <td>212.740856</td>\n",
       "      <td>1.882397</td>\n",
       "      <td>96.497550</td>\n",
       "      <td>27.232906</td>\n",
       "    </tr>\n",
       "    <tr>\n",
       "      <th>3</th>\n",
       "      <td>Male</td>\n",
       "      <td>71.730978</td>\n",
       "      <td>220.042470</td>\n",
       "      <td>1.821967</td>\n",
       "      <td>99.809504</td>\n",
       "      <td>30.067059</td>\n",
       "    </tr>\n",
       "    <tr>\n",
       "      <th>4</th>\n",
       "      <td>Male</td>\n",
       "      <td>69.881796</td>\n",
       "      <td>206.349801</td>\n",
       "      <td>1.774998</td>\n",
       "      <td>93.598619</td>\n",
       "      <td>29.708033</td>\n",
       "    </tr>\n",
       "  </tbody>\n",
       "</table>\n",
       "</div>"
      ],
      "text/plain": [
       "  Gender     Height      Weight    Altura        Peso        IMC\n",
       "0   Male  73.847017  241.893563  1.875714  109.720985  31.185761\n",
       "1   Male  68.781904  162.310473  1.747060   73.622732  24.121044\n",
       "2   Male  74.110105  212.740856  1.882397   96.497550  27.232906\n",
       "3   Male  71.730978  220.042470  1.821967   99.809504  30.067059\n",
       "4   Male  69.881796  206.349801  1.774998   93.598619  29.708033"
      ]
     },
     "execution_count": 3,
     "metadata": {},
     "output_type": "execute_result"
    }
   ],
   "source": [
    "df['Altura'] = df['Height'] * 0.0254\n",
    "df['Peso'] = df['Weight'] * .453592\n",
    "df['IMC'] = df['Peso'] / (df['Altura'] * df['Altura'])\n",
    "df.head()"
   ]
  },
  {
   "cell_type": "code",
   "execution_count": 4,
   "metadata": {},
   "outputs": [],
   "source": [
    "def status(imc):\n",
    "    if imc < 18.5:\n",
    "        return 'Magreza'\n",
    "    elif imc <= 24.9:\n",
    "        return 'Saudável'\n",
    "    elif imc <= 29.9:\n",
    "        return 'Sobrepeso'\n",
    "    elif imc <= 34.9:\n",
    "        return 'Obesidade G1'\n",
    "    elif imc <= 39.9:\n",
    "        return 'Obesidade Severa G2'\n",
    "    else:\n",
    "        return 'Obesidade Mórbida G3'\n",
    "    "
   ]
  },
  {
   "cell_type": "code",
   "execution_count": 5,
   "metadata": {},
   "outputs": [
    {
     "data": {
      "text/html": [
       "<div>\n",
       "<style scoped>\n",
       "    .dataframe tbody tr th:only-of-type {\n",
       "        vertical-align: middle;\n",
       "    }\n",
       "\n",
       "    .dataframe tbody tr th {\n",
       "        vertical-align: top;\n",
       "    }\n",
       "\n",
       "    .dataframe thead th {\n",
       "        text-align: right;\n",
       "    }\n",
       "</style>\n",
       "<table border=\"1\" class=\"dataframe\">\n",
       "  <thead>\n",
       "    <tr style=\"text-align: right;\">\n",
       "      <th></th>\n",
       "      <th>Gender</th>\n",
       "      <th>Height</th>\n",
       "      <th>Weight</th>\n",
       "      <th>Altura</th>\n",
       "      <th>Peso</th>\n",
       "      <th>IMC</th>\n",
       "      <th>classe</th>\n",
       "    </tr>\n",
       "  </thead>\n",
       "  <tbody>\n",
       "    <tr>\n",
       "      <th>0</th>\n",
       "      <td>Male</td>\n",
       "      <td>73.847017</td>\n",
       "      <td>241.893563</td>\n",
       "      <td>1.875714</td>\n",
       "      <td>109.720985</td>\n",
       "      <td>31.185761</td>\n",
       "      <td>Obesidade G1</td>\n",
       "    </tr>\n",
       "    <tr>\n",
       "      <th>1</th>\n",
       "      <td>Male</td>\n",
       "      <td>68.781904</td>\n",
       "      <td>162.310473</td>\n",
       "      <td>1.747060</td>\n",
       "      <td>73.622732</td>\n",
       "      <td>24.121044</td>\n",
       "      <td>Saudável</td>\n",
       "    </tr>\n",
       "    <tr>\n",
       "      <th>2</th>\n",
       "      <td>Male</td>\n",
       "      <td>74.110105</td>\n",
       "      <td>212.740856</td>\n",
       "      <td>1.882397</td>\n",
       "      <td>96.497550</td>\n",
       "      <td>27.232906</td>\n",
       "      <td>Sobrepeso</td>\n",
       "    </tr>\n",
       "    <tr>\n",
       "      <th>3</th>\n",
       "      <td>Male</td>\n",
       "      <td>71.730978</td>\n",
       "      <td>220.042470</td>\n",
       "      <td>1.821967</td>\n",
       "      <td>99.809504</td>\n",
       "      <td>30.067059</td>\n",
       "      <td>Obesidade G1</td>\n",
       "    </tr>\n",
       "    <tr>\n",
       "      <th>4</th>\n",
       "      <td>Male</td>\n",
       "      <td>69.881796</td>\n",
       "      <td>206.349801</td>\n",
       "      <td>1.774998</td>\n",
       "      <td>93.598619</td>\n",
       "      <td>29.708033</td>\n",
       "      <td>Sobrepeso</td>\n",
       "    </tr>\n",
       "  </tbody>\n",
       "</table>\n",
       "</div>"
      ],
      "text/plain": [
       "  Gender     Height      Weight    Altura        Peso        IMC        classe\n",
       "0   Male  73.847017  241.893563  1.875714  109.720985  31.185761  Obesidade G1\n",
       "1   Male  68.781904  162.310473  1.747060   73.622732  24.121044      Saudável\n",
       "2   Male  74.110105  212.740856  1.882397   96.497550  27.232906     Sobrepeso\n",
       "3   Male  71.730978  220.042470  1.821967   99.809504  30.067059  Obesidade G1\n",
       "4   Male  69.881796  206.349801  1.774998   93.598619  29.708033     Sobrepeso"
      ]
     },
     "execution_count": 5,
     "metadata": {},
     "output_type": "execute_result"
    }
   ],
   "source": [
    "df['classe'] = df['IMC'].apply(status)\n",
    "df.head()"
   ]
  },
  {
   "cell_type": "code",
   "execution_count": 6,
   "metadata": {},
   "outputs": [
    {
     "data": {
      "text/html": [
       "<div>\n",
       "<style scoped>\n",
       "    .dataframe tbody tr th:only-of-type {\n",
       "        vertical-align: middle;\n",
       "    }\n",
       "\n",
       "    .dataframe tbody tr th {\n",
       "        vertical-align: top;\n",
       "    }\n",
       "\n",
       "    .dataframe thead th {\n",
       "        text-align: right;\n",
       "    }\n",
       "</style>\n",
       "<table border=\"1\" class=\"dataframe\">\n",
       "  <thead>\n",
       "    <tr style=\"text-align: right;\">\n",
       "      <th></th>\n",
       "      <th>Height</th>\n",
       "      <th>Weight</th>\n",
       "      <th>Altura</th>\n",
       "      <th>Peso</th>\n",
       "      <th>IMC</th>\n",
       "    </tr>\n",
       "  </thead>\n",
       "  <tbody>\n",
       "    <tr>\n",
       "      <th>count</th>\n",
       "      <td>10000.000000</td>\n",
       "      <td>10000.000000</td>\n",
       "      <td>10000.000000</td>\n",
       "      <td>10000.000000</td>\n",
       "      <td>10000.000000</td>\n",
       "    </tr>\n",
       "    <tr>\n",
       "      <th>mean</th>\n",
       "      <td>66.367560</td>\n",
       "      <td>161.440357</td>\n",
       "      <td>1.685736</td>\n",
       "      <td>73.228054</td>\n",
       "      <td>25.475457</td>\n",
       "    </tr>\n",
       "    <tr>\n",
       "      <th>std</th>\n",
       "      <td>3.847528</td>\n",
       "      <td>32.108439</td>\n",
       "      <td>0.097727</td>\n",
       "      <td>14.564131</td>\n",
       "      <td>2.693810</td>\n",
       "    </tr>\n",
       "    <tr>\n",
       "      <th>min</th>\n",
       "      <td>54.263133</td>\n",
       "      <td>64.700127</td>\n",
       "      <td>1.378284</td>\n",
       "      <td>29.347460</td>\n",
       "      <td>15.448750</td>\n",
       "    </tr>\n",
       "    <tr>\n",
       "      <th>25%</th>\n",
       "      <td>63.505620</td>\n",
       "      <td>135.818051</td>\n",
       "      <td>1.613043</td>\n",
       "      <td>61.605982</td>\n",
       "      <td>23.464807</td>\n",
       "    </tr>\n",
       "    <tr>\n",
       "      <th>50%</th>\n",
       "      <td>66.318070</td>\n",
       "      <td>161.212928</td>\n",
       "      <td>1.684479</td>\n",
       "      <td>73.124894</td>\n",
       "      <td>25.733316</td>\n",
       "    </tr>\n",
       "    <tr>\n",
       "      <th>75%</th>\n",
       "      <td>69.174262</td>\n",
       "      <td>187.169525</td>\n",
       "      <td>1.757026</td>\n",
       "      <td>84.898599</td>\n",
       "      <td>27.558535</td>\n",
       "    </tr>\n",
       "    <tr>\n",
       "      <th>max</th>\n",
       "      <td>78.998742</td>\n",
       "      <td>269.989699</td>\n",
       "      <td>2.006568</td>\n",
       "      <td>122.465167</td>\n",
       "      <td>33.028103</td>\n",
       "    </tr>\n",
       "  </tbody>\n",
       "</table>\n",
       "</div>"
      ],
      "text/plain": [
       "             Height        Weight        Altura          Peso           IMC\n",
       "count  10000.000000  10000.000000  10000.000000  10000.000000  10000.000000\n",
       "mean      66.367560    161.440357      1.685736     73.228054     25.475457\n",
       "std        3.847528     32.108439      0.097727     14.564131      2.693810\n",
       "min       54.263133     64.700127      1.378284     29.347460     15.448750\n",
       "25%       63.505620    135.818051      1.613043     61.605982     23.464807\n",
       "50%       66.318070    161.212928      1.684479     73.124894     25.733316\n",
       "75%       69.174262    187.169525      1.757026     84.898599     27.558535\n",
       "max       78.998742    269.989699      2.006568    122.465167     33.028103"
      ]
     },
     "execution_count": 6,
     "metadata": {},
     "output_type": "execute_result"
    }
   ],
   "source": [
    "df.describe()"
   ]
  },
  {
   "cell_type": "markdown",
   "metadata": {},
   "source": [
    "## Probabilities"
   ]
  },
  {
   "cell_type": "markdown",
   "metadata": {},
   "source": [
    "### Histogram\n",
    "\n",
    "Using Pandas function"
   ]
  },
  {
   "cell_type": "code",
   "execution_count": 7,
   "metadata": {},
   "outputs": [
    {
     "data": {
      "text/plain": [
       "array([[<matplotlib.axes._subplots.AxesSubplot object at 0x00000176C5946A58>,\n",
       "        <matplotlib.axes._subplots.AxesSubplot object at 0x00000176C58BBF98>],\n",
       "       [<matplotlib.axes._subplots.AxesSubplot object at 0x00000176C58EB550>,\n",
       "        <matplotlib.axes._subplots.AxesSubplot object at 0x00000176C5912AC8>],\n",
       "       [<matplotlib.axes._subplots.AxesSubplot object at 0x00000176C5B661D0>,\n",
       "        <matplotlib.axes._subplots.AxesSubplot object at 0x00000176C5BAA5C0>]],\n",
       "      dtype=object)"
      ]
     },
     "execution_count": 7,
     "metadata": {},
     "output_type": "execute_result"
    },
    {
     "data": {
      "image/png": "[encoded data removed]",
      "text/plain": [
       "<Figure size 648x648 with 6 Axes>"
      ]
     },
     "metadata": {
      "needs_background": "light"
     },
     "output_type": "display_data"
    }
   ],
   "source": [
    "df.hist(bins=15,figsize=(9,9))"
   ]
  },
  {
   "cell_type": "markdown",
   "metadata": {},
   "source": [
    "It is possible to set density parameter to draw a histogram of relative frequencies"
   ]
  },
  {
   "cell_type": "code",
   "execution_count": 8,
   "metadata": {},
   "outputs": [
    {
     "data": {
      "text/plain": [
       "array([[<matplotlib.axes._subplots.AxesSubplot object at 0x00000176C594EBE0>,\n",
       "        <matplotlib.axes._subplots.AxesSubplot object at 0x00000176C5F63BA8>],\n",
       "       [<matplotlib.axes._subplots.AxesSubplot object at 0x00000176C5E436D8>,\n",
       "        <matplotlib.axes._subplots.AxesSubplot object at 0x00000176C5CB9630>],\n",
       "       [<matplotlib.axes._subplots.AxesSubplot object at 0x00000176C5D00A20>,\n",
       "        <matplotlib.axes._subplots.AxesSubplot object at 0x00000176C5D28F98>]],\n",
       "      dtype=object)"
      ]
     },
     "execution_count": 8,
     "metadata": {},
     "output_type": "execute_result"
    },
    {
     "data": {
      "image/png": "[encoded data removed]",
      "text/plain": [
       "<Figure size 648x648 with 6 Axes>"
      ]
     },
     "metadata": {
      "needs_background": "light"
     },
     "output_type": "display_data"
    }
   ],
   "source": [
    "df.hist(bins=15,figsize=(9,9), density=True)"
   ]
  },
  {
   "cell_type": "markdown",
   "metadata": {},
   "source": [
    "However, there is something wrong on 'Altura' variable, because the sum of all frequencies should be 1.0."
   ]
  },
  {
   "cell_type": "markdown",
   "metadata": {},
   "source": [
    "### Calculate your Own Frequencies"
   ]
  },
  {
   "cell_type": "code",
   "execution_count": 9,
   "metadata": {},
   "outputs": [
    {
     "name": "stdout",
     "output_type": "stream",
     "text": [
      "<= 1.20 :  0\n",
      "<= 1.25 :  0\n",
      "<= 1.30 :  0\n",
      "<= 1.35 :  3\n",
      "<= 1.40 :  36\n",
      "<= 1.45 :  180\n",
      "<= 1.50 :  607\n",
      "<= 1.55 :  1266\n",
      "<= 1.60 :  1681\n",
      "<= 1.65 :  1761\n",
      "<= 1.70 :  1714\n",
      "<= 1.75 :  1411\n",
      "<= 1.80 :  901\n",
      "<= 1.85 :  342\n",
      "<= 1.90 :  82\n",
      "<= 1.95 :  15\n",
      "<= 2.00 :  1\n",
      "<= 2.05 :  0\n"
     ]
    },
    {
     "data": {
      "text/plain": [
       "<BarContainer object of 18 artists>"
      ]
     },
     "execution_count": 9,
     "metadata": {},
     "output_type": "execute_result"
    },
    {
     "data": {
      "image/png": "[encoded data removed]",
      "text/plain": [
       "<Figure size 432x288 with 1 Axes>"
      ]
     },
     "metadata": {
      "needs_background": "light"
     },
     "output_type": "display_data"
    }
   ],
   "source": [
    "# define your variable\n",
    "var = 'Altura'\n",
    "# define your own bins\n",
    "start= 1.2\n",
    "stop= 2.15\n",
    "step=.05\n",
    "nbins=np.arange(start,stop,step)\n",
    "\n",
    "# On Numpy, use Histogram function to count frequencies\n",
    "histCounts, histBins = np.histogram(df[var], bins=nbins)\n",
    "\n",
    "for i in range(histCounts.size):\n",
    "    print('<=',\"{0:.2f}\".format(np.round(histBins[i],2)),': ', histCounts[i])\n",
    "    \n",
    "plt.bar(histBins[:-1],histCounts,align='edge',width=step)"
   ]
  },
  {
   "cell_type": "markdown",
   "metadata": {},
   "source": [
    "Calculating the relative frequencies, it is the **correct form**. Do it yourself"
   ]
  },
  {
   "cell_type": "code",
   "execution_count": 10,
   "metadata": {},
   "outputs": [
    {
     "name": "stdout",
     "output_type": "stream",
     "text": [
      "<= 1.20 :  0.0\n",
      "<= 1.25 :  0.0\n",
      "<= 1.30 :  0.0\n",
      "<= 1.35 :  0.0003\n",
      "<= 1.40 :  0.0036\n",
      "<= 1.45 :  0.018\n",
      "<= 1.50 :  0.0607\n",
      "<= 1.55 :  0.1266\n",
      "<= 1.60 :  0.1681\n",
      "<= 1.65 :  0.1761\n",
      "<= 1.70 :  0.1714\n",
      "<= 1.75 :  0.1411\n",
      "<= 1.80 :  0.0901\n",
      "<= 1.85 :  0.0342\n",
      "<= 1.90 :  0.0082\n",
      "<= 1.95 :  0.0015\n",
      "<= 2.00 :  0.0001\n",
      "<= 2.05 :  0.0\n"
     ]
    },
    {
     "data": {
      "text/plain": [
       "<BarContainer object of 18 artists>"
      ]
     },
     "execution_count": 10,
     "metadata": {},
     "output_type": "execute_result"
    },
    {
     "data": {
      "image/png": "[encoded data removed]",
      "text/plain": [
       "<Figure size 432x288 with 1 Axes>"
      ]
     },
     "metadata": {
      "needs_background": "light"
     },
     "output_type": "display_data"
    }
   ],
   "source": [
    "for i in range(histCounts.size):\n",
    "    print('<=',\"{0:.2f}\".format(np.round(histBins[i],2)),': ', histCounts[i]/histCounts.sum())\n",
    "\n",
    "plt.bar(histBins[:-1],histCounts/histCounts.sum(),align='edge',width=step)"
   ]
  },
  {
   "cell_type": "markdown",
   "metadata": {},
   "source": [
    "Using the parameter **'density' = True**, and comparing the difference"
   ]
  },
  {
   "cell_type": "code",
   "execution_count": 11,
   "metadata": {},
   "outputs": [
    {
     "name": "stdout",
     "output_type": "stream",
     "text": [
      "<= 1.20 :  0.0\n",
      "<= 1.25 :  0.0\n",
      "<= 1.30 :  0.0\n",
      "<= 1.35 :  0.005999999999999995\n",
      "<= 1.40 :  0.07199999999999993\n",
      "<= 1.45 :  0.3599999999999997\n",
      "<= 1.50 :  1.2139999999999989\n",
      "<= 1.55 :  2.531999999999998\n",
      "<= 1.60 :  3.361999999999997\n",
      "<= 1.65 :  3.521999999999997\n",
      "<= 1.70 :  3.4279999999999973\n",
      "<= 1.75 :  2.8219999999999974\n",
      "<= 1.80 :  1.8019999999999985\n",
      "<= 1.85 :  0.6839999999999994\n",
      "<= 1.90 :  0.16399999999999987\n",
      "<= 1.95 :  0.02999999999999984\n",
      "<= 2.00 :  0.002000000000000007\n",
      "<= 2.05 :  0.0\n"
     ]
    },
    {
     "data": {
      "text/plain": [
       "<BarContainer object of 18 artists>"
      ]
     },
     "execution_count": 11,
     "metadata": {},
     "output_type": "execute_result"
    },
    {
     "data": {
      "image/png": "[encoded data removed]",
      "text/plain": [
       "<Figure size 432x288 with 1 Axes>"
      ]
     },
     "metadata": {
      "needs_background": "light"
     },
     "output_type": "display_data"
    }
   ],
   "source": [
    "histCount, histBin = np.histogram(df[var], bins=nbins, density=True)\n",
    "for i in range(histCount.size):\n",
    "    print('<=',\"{0:.2f}\".format(np.round(histBin[i],2)),': ', histCount[i])\n",
    "    \n",
    "plt.bar(histBins[:-1],histCounts,align='edge',width=step)"
   ]
  },
  {
   "cell_type": "markdown",
   "metadata": {},
   "source": [
    "### Using Matplotlib"
   ]
  },
  {
   "cell_type": "code",
   "execution_count": 25,
   "metadata": {},
   "outputs": [
    {
     "data": {
      "text/plain": [
       "Text(0.5, 1.0, 'Histogram')"
      ]
     },
     "execution_count": 25,
     "metadata": {},
     "output_type": "execute_result"
    },
    {
     "data": {
      "image/png": "[encoded data removed]",
      "text/plain": [
       "<Figure size 432x288 with 1 Axes>"
      ]
     },
     "metadata": {
      "needs_background": "light"
     },
     "output_type": "display_data"
    }
   ],
   "source": [
    "_, ax = plt.subplots()\n",
    "ax.hist(df[var], bins=nbins, weights=(np.zeros_like(df[var]) + 1./ df[var].size))\n",
    "ax.set_ylabel('Frequency')\n",
    "ax.set_xlabel('Data')\n",
    "ax.set_title('Histogram')"
   ]
  },
  {
   "cell_type": "markdown",
   "metadata": {},
   "source": [
    "## Grouping variables"
   ]
  },
  {
   "cell_type": "code",
   "execution_count": 26,
   "metadata": {},
   "outputs": [
    {
     "data": {
      "text/plain": [
       "Male      5000\n",
       "Female    5000\n",
       "Name: Gender, dtype: int64"
      ]
     },
     "execution_count": 26,
     "metadata": {},
     "output_type": "execute_result"
    }
   ],
   "source": [
    "df['Gender'].value_counts()"
   ]
  },
  {
   "cell_type": "code",
   "execution_count": null,
   "metadata": {},
   "outputs": [],
   "source": [
    "df.groupby(['Peso']).first()"
   ]
  },
  {
   "cell_type": "code",
   "execution_count": null,
   "metadata": {},
   "outputs": [],
   "source": []
  }
 ],
 "metadata": {
  "kernelspec": {
   "display_name": "Python 3",
   "language": "python",
   "name": "python3"
  },
  "language_info": {
   "codemirror_mode": {
    "name": "ipython",
    "version": 3
   },
   "file_extension": ".py",
   "mimetype": "text/x-python",
   "name": "python",
   "nbconvert_exporter": "python",
   "pygments_lexer": "ipython3",
   "version": "3.7.1"
  }
 },
 "nbformat": 4,
 "nbformat_minor": 2
}
