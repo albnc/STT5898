{
 "cells": [
  {
   "cell_type": "markdown",
   "metadata": {
    "colab_type": "text",
    "id": "PAVPziS6YUUc"
   },
   "source": [
    "# **STT5898 - Estatística aplicada à Engenharia de Transportes**\n",
    "\n",
    "| ![Andre](https://scholar.google.com.br/citations?view_op=view_photo&user=HI0CQJMAAAAJ&citpid=5) | ![Cira](https://scholar.google.com.br/citations?view_op=view_photo&user=A6zsj3oAAAAJ&citpid=2) |\n",
    "| --- | --- |\n",
    "| ***prof. André Luiz Cunha*** | ***profa. Cira Pitombo*** |\n",
    "\n",
    "---"
   ]
  },
  {
   "cell_type": "markdown",
   "metadata": {
    "colab_type": "text",
    "id": "2yg0N35kYUUf"
   },
   "source": [
    "# A disciplina\n",
    "\n",
    "- Ao todo serão 15 aulas no semestre (4 horas/semana), em aulas teóricas e práticas.\n",
    "- Haverá uma avaliação de conhecimento (**PROVA**) e apresentação das **ATIVIDADES PRÁTICAS**\n",
    "\n",
    "\n",
    "## Objetivos\n",
    "- Aproximar o ensino de Estatística a problemas práticos de Engenharia de Transportes\n",
    "- Apresentar conceitos e técnicas inseridos em pesquisas\n",
    "- Compreender a importância do uso da estatística como ferramenta de apoio à análise em qualquer área de atuação\n",
    "- Explorar as ferramentas de análise de dados\n",
    "- Compreender a análise exploratória de dados\n",
    "- Associar o uso de modelos estatísticos e distribuições aos dados\n",
    "- Formular e corroborar hipóteses de pesquisas\n",
    "- Conscientizar a importância de banco de dados\n",
    "\n",
    "## Material\n",
    "\n",
    "Todo o material ficará disponível no Google Classroom. Lembre-se de usar o seu e-mail no domínio '@usp.br'.\n",
    "\n",
    "O código da disciplina é : ***ftj5fog***\n",
    "\n",
    "## Ementa\n",
    "\n",
    "|AULA |\tDATA | TIPO | PROFESSOR(A)\t| CONTEÚDO |\n",
    "|---:| :--- | :--- | :--- | :--- |\n",
    "| 1 | 19/03/2019 | Teórica | ANDRE | Introdução (Cap 1); Pesquisas e dados (Cap 2); Amostragem (Cap 3) |\n",
    "| 2 | 26/03/2019 | Teórica | ANDRE | Dados categorizados, quantitativos, medidas descritivas (Cap 4, 5 e 6) |\n",
    "| 3\t| 02/04/2019 | Prática | ANDRE | Palestra prof. Edouard (Croácia) e Introdução Python |\n",
    "| 4\t| 09/04/2019 | Teórica | ANDRE | Planejamento de experimentos (Cap 2); Probabilidade (Cap 4) |\n",
    "| 5 | 16/04/2019 | Prática | ANDRE | Prática Python 1 |\n",
    "| 6 | 23/04/2019 | Teórica | ANDRE | Modelos probabilísticos (Cap 7 ) / Modelo Normal (cap. 8) |\n",
    "| 7 | 30/04/2019 | Prática | ANDRE | Prática Python 2 |\n",
    "| 8 | 07/05/2019 | Teórica | ANDRE | testes de hipótese (Cap  10) |\n",
    "| 9 | 14/05/2019 | Teórica | ANDRE | Testes Não-Paramétricos |\n",
    "| 10| 21/05/2019 | Prática | ANDRE | Prática Python 3 |\n",
    "| 11| 28/05/2019 | Teórica | CIRA  | Estimação de parâmetros (Cap 9 ) |\n",
    "| 12| 04/06/2019 | Teórica | CIRA  | Correlação e Regressão (Cap  13) |\n",
    "| 13| 11/06/2019 | Prática | CIRA/ANDRE | Prática Python 4 |\n",
    "| 14| 18/06/2019 | ***PROVA***   | CIRA\t| Avaliação da aprendizagem |\n",
    "| 15| 25/06/2019 | ***APRESENTAÇÃO*** | ANDRE/CIRA | Entrega das Práticas |\n",
    "\n",
    "\n",
    "## Nota Final\n",
    "\n",
    "O conceito da disciplina será dado em função da nota final obtida pelo aluno, de acordo com a seguinte equação:\n",
    "$$NF = 0,6 \\cdot NP + 0,4 \\cdot NAP$$\n",
    "\n",
    "Sendo:\n",
    "- $NF$ a nota final;\n",
    "- $NP$ a nota da prova;\n",
    "- $NAP$ a nota da apresentação e atividades práticas.\n",
    "\n",
    "\n",
    "## Bibliografia\n",
    "\n",
    "- BARBETTA, P.A. *Estatística aplicada às ciências sociais*, Florianópolis: Editora da UFSC, 2012. \n",
    "- BARBETTA, P.A.; REIS, M.M.; BORNA, A.C. *Estatística para cursos de Engenharia e Informática*, São Paulo: Editora Atlas, 2004.\n",
    "- BUSSAB, W.O.; MORETTIN, P.A. *Estatística básica*. 5ed. São Paulo:Editora Saraiva, 2002. \n",
    "- HAIR, J.F.; ANDERSON, R.E.; TATHAM, R.L.; BLACK, W.C. *Multivariate Data Analysis*. 5ª ed. Prentice-Hall. Upper Saddle River, New Jersey, 730p. \n",
    "\n",
    "\n",
    "<img src=\"http://livrariaufsm.com.br/media/catalog/product/cache/1/image/650x/040ec09b1e35df139433887a97daa66f/s/c/scanner_20160719_5__1.jpg\" width=\"200\"> <img src=\"https://images.livrariasaraiva.com.br/imagemnet/imagem.aspx/?pro_id=3065622&qld=90&l=430&a=-1=1006582602\" width=\"200\"> <img src=\"https://3.bp.blogspot.com/-xXyJyqY9GxI/V838cGxfOrI/AAAAAAAACd0/1acjgM2rioAXgq3XjhPx3mm8PGvPTnTAACLcB/s1600/estatistica-basica-bussab-morettin.PNG\" width=\"200\"> <img src=\"https://images-na.ssl-images-amazon.com/images/I/51m0MnEvmnL.jpg\" width=\"200\">\n",
    "\n",
    "\n",
    "## Pacotes Estatísticos\n",
    "- Microsoft Excel\n",
    "- IBM SPSS (*Statistical Package for the Social Sciences*)\n",
    "- [NumPy](http://www.numpy.org/), [Pandas](https://pandas.pydata.org/) e [SciPy](https://docs.scipy.org/doc/scipy/reference/stats.html) -- Python\n"
   ]
  },
  {
   "cell_type": "markdown",
   "metadata": {
    "colab_type": "text",
    "id": "rzXdCRCKYUUi"
   },
   "source": [
    "---\n",
    "# Python \n",
    "\n",
    "A linguagem Python foi criada em 1991 por Guido van Rossum como uma linguagem de ensino e script. Python tem se tornado uma ferramenta essencial para programadores, engenheiros, pesquisadores e cientistas de dados, tanto da academia quanto da indústria. Possui um modelo de desenvolvimento comunitário e aberto, gerenciado pela [Python Software Foundation](https://www.python.org/psf/).\n",
    "\n",
    "<img src=\"https://www.python.org/static/img/python-logo@2x.png\" width=\"400\">\n",
    "\n",
    "O apelo da linguagem Python está na sua simplicidade e beleza, assim como na conveniência de grandes ecossistemas integrados. Tem sido a linguagem mais usada dos últimos anos:\n",
    "\n",
    "|Top Languages - 2019|\n",
    "| --- |\n",
    "|<img src=\"https://cdn-images-1.medium.com/max/2600/1*cWW2X0SCMeft-bmYjWcvMA.jpeg\" width=\"500\">|\n",
    "\n",
    "\n",
    "\n",
    "## Instalação\n",
    "Caso seja iniciante em programação, é altamente recomendado instalar o pacote [Anaconda](https://www.anaconda.com/distribution/). Este pacote já vem com as bibliotecas científicas mais populares instaladas e algumas opções de interface com o usuário, também pré-instaladas, tais como: [Spyder](https://www.spyder-ide.org/), [Jupyter Notebook](https://jupyter.org/) e [Jupyter Lab](https://jupyterlab.readthedocs.io/en/stable/). \n",
    "\n",
    "Caso tenha alguma experiência em programação e queira instalar apenas os pacotes de seu interesse, é recomendado o [Miniconda](https://docs.conda.io/en/latest/miniconda.html).\n",
    "\n",
    "\n",
    "## Referências\n",
    "- SEVERANCE, C. R. *Python for Everybody*. 2016. [PDF](http://do1.dr-chuck.com/pythonlearn/EN_us/pythonlearn.pdf)\n",
    "- VANDERPLAS, J. *A Whirlwind Tour of Python*. O'Reilly Media 2016. [GitHub](https://github.com/jakevdp/WhirlwindTourOfPython) | [PDF](http://www.oreilly.com/programming/free/files/a-whirlwind-tour-of-python.pdf)\n",
    "- VANDERPLAS, J. *Python Data Science Handbook: Essential Tools for Working with Data*. O'Reilly Media 2016. [GitHub](https://github.com/jakevdp/PythonDataScienceHandbook) | [PDF](https://drive.google.com/open?id=1xvNWWwY-OMxf-I9WqUSdS6XaQrl5Acxk)\n",
    "- VAROQUAUX, G.; GOULLIART, E.; VAHTRAS, O. *Scipy Lecture Notes*. Disponível em : <[http://scipy-lectures.org/index.html](http://scipy-lectures.org/index.html)>"
   ]
  }
 ],
 "metadata": {
  "colab": {
   "name": "aula00_Introducao.ipynb",
   "provenance": [],
   "version": "0.3.2"
  },
  "kernelspec": {
   "display_name": "Python 3",
   "language": "python",
   "name": "python3"
  },
  "language_info": {
   "codemirror_mode": {
    "name": "ipython",
    "version": 3
   },
   "file_extension": ".py",
   "mimetype": "text/x-python",
   "name": "python",
   "nbconvert_exporter": "python",
   "pygments_lexer": "ipython3",
   "version": "3.7.1"
  }
 },
 "nbformat": 4,
 "nbformat_minor": 2
}
