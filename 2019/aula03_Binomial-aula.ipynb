{
 "cells": [
  {
   "cell_type": "markdown",
   "metadata": {
    "colab_type": "text",
    "id": "ktsKGUIIik-A"
   },
   "source": [
    "# **STT5898 - Estatística aplicada à Engenharia de Transportes**\n",
    "\n",
    "#### *Prof. André Luiz Cunha*\n",
    "---"
   ]
  },
  {
   "cell_type": "markdown",
   "metadata": {},
   "source": [
    "# O QUE VIMOS ATÉ AQUI?\n",
    "\n",
    "- Amostragem\n",
    "\n",
    "\n",
    "- Explorando os dados\n",
    "    - Variáveis qualitativas\n",
    "    - Variáveis quantitativas\n",
    "\n",
    "\n",
    "- Medidas Descritivas\n",
    "    - Média\n",
    "    - Desvio Padrão\n",
    "    - Variância\n",
    "    - Intervalo\n",
    "    - Quartis e Percentis\n",
    "    - Box-plot\n",
    "\n",
    "\n",
    "- Planejamento de experimentos\n",
    "\n",
    "\n",
    "- Probabilidades"
   ]
  },
  {
   "cell_type": "code",
   "execution_count": 26,
   "metadata": {
    "collapsed": true
   },
   "outputs": [],
   "source": [
    "import numpy as np\n",
    "import matplotlib.pyplot as plt\n",
    "%matplotlib inline"
   ]
  },
  {
   "cell_type": "markdown",
   "metadata": {
    "colab_type": "text",
    "id": "UJkuhXoeik-C"
   },
   "source": [
    "# MODELOS PROBABILÍSTICOS\n",
    "\n",
    "Na aula anterior, predominou o racicínio indutivo: com base na descrição dos dados observados (distribuição de frequências), procuramos fazer conjeturas sobre o universo (população) em estudo.\n",
    "\n",
    "Nesta aula, aplicaremos o inverso, raciocínio dedutivo, em que procuramos entender como poderão ocorrer resultados de uma variável, considerando certas suposições a respeito do problema em estudo.\n",
    "\n",
    "<img src=\"ModelosProbabilisticos.png\"\n",
    "     alt=\"\"\n",
    "     style=\"float:left;height:300px\" />"
   ]
  },
  {
   "cell_type": "markdown",
   "metadata": {},
   "source": [
    "## 1. Definições básicas\n",
    "\n",
    "> Os ***modelos probabilísticos*** são constituídos de certas hipóteses ou conjeturas sobre o problema em questão e constituem-se de duas partes:\n",
    "> 1. dos possíves resultados\n",
    "> 2. de uma certa *lei* que nos diz quão provável é cada resultados"
   ]
  },
  {
   "cell_type": "markdown",
   "metadata": {},
   "source": [
    "### 1.1 Espaço amostral e eventos\n",
    "\n",
    "> ***Espaço amostral*** é o conjunto de todos os resultados possíveis do experimento e será denotado por $\\Omega$\n",
    "\n",
    "\n",
    "EXEMPLOS:\n",
    "\n",
    "- Lançar uma moeda.\n",
    "$\\Omega$ = {Cara, Coroa}\n",
    "\n",
    "- Lançar um dado.\n",
    "$\\Omega$ = {1,2,3,4,5,6}\n",
    "\n",
    "- Numa escola, selecionar um aluno e medir a sua altura.\n",
    "$\\Omega$ = {[1,00; 2,00]}\n",
    "\n",
    "- Em certo bairro, selecionar dez famílias e verificar quantas utilizam algum programa de alimentação popular.\n",
    "$\\Omega$ = {0,1,2,3,4,5,6,7,8,9,10}"
   ]
  },
  {
   "cell_type": "markdown",
   "metadata": {},
   "source": [
    "> ***Evento*** é um conjunto de resutados do experimento\n",
    "\n",
    "EXEMPLOS: \n",
    "\n",
    "- Lançamento de um dado. \n",
    "\n",
    "Evento A : ocorrer um número par no lançamento de dados.\n",
    "$A$ = {2,4,6}\n",
    "\n",
    "- Medir a altura de um aluno\n",
    "\n",
    "Evento B : ocorrer um número par.\n",
    "$B$ = {1,00;1,02;....;2,00}"
   ]
  },
  {
   "cell_type": "markdown",
   "metadata": {},
   "source": [
    "### 1.2. Probabilidades\n",
    "\n",
    "> ***Probabilidade*** é um valor entre 0 (zero) e 1 (um). A soma das probabilidades de todos os resultados possíveis do experimento deve ser igual a 1 (um). \n",
    "\n",
    "$$P(A) = \\frac{n_{A}}{N}$$\n",
    "\n",
    "\n",
    "EXEMPLO:\n",
    "- Seja uma urna com 5 bolas brancas, 3 vermelhas e 2 pretas. Selecionar uma bola ao acaso. Qual a probabilidade da bola selecionada ser branca ou vermelha?"
   ]
  },
  {
   "cell_type": "code",
   "execution_count": 5,
   "metadata": {},
   "outputs": [
    {
     "name": "stdout",
     "output_type": "stream",
     "text": [
      "P(branca ou vermelha) = P(Brancas) + P(Vermelhas) = 0.8\n",
      "P(branca ou vermelha) = 1 - P(Pretas) = 0.8\n"
     ]
    }
   ],
   "source": [
    "# P(branca ou vermelha) = ?\n",
    "print('P(branca ou vermelha) = P(Brancas) + P(Vermelhas) =', 5/10 + 3/10)\n",
    "print('P(branca ou vermelha) = 1 - P(Pretas) =', 1 - 2/10 )"
   ]
  },
  {
   "cell_type": "markdown",
   "metadata": {},
   "source": [
    "> Dois eventos são ***independentes*** quando a ocorrência de um deles não altera a probabilidade da ocorrência do outro.\n",
    "\n",
    "EXEMPLO:\n",
    "\n",
    "- Em uma urna com 5 bolas brancas, 3 vermelhas e 2 pretas. Ao selecionar duas bolas, com reposição, qual a probabilidade de ocorrer bolas vermelhas em ambas?"
   ]
  },
  {
   "cell_type": "code",
   "execution_count": 8,
   "metadata": {},
   "outputs": [
    {
     "name": "stdout",
     "output_type": "stream",
     "text": [
      "P(vermelha) e P(vermelha) = ? 0.09\n"
     ]
    }
   ],
   "source": [
    "print('P(vermelha) e P(vermelha) = ?', (3/10) * (3/10))"
   ]
  },
  {
   "cell_type": "markdown",
   "metadata": {},
   "source": [
    "#### 1.2.1 Distribuição de Frequências\n",
    "\n",
    "Usada no contexto de variáveis aleatórias discretas.\n",
    "\n",
    "> A *função de distribuição de probabilidades*, *função de probabilidades* ou PMF (*probability mass funtion*) é usada quando a distribuição de frequências é definida em função de um conjunto de valores (discretos)."
   ]
  },
  {
   "cell_type": "code",
   "execution_count": 14,
   "metadata": {},
   "outputs": [
    {
     "name": "stdout",
     "output_type": "stream",
     "text": [
      "[0 0 0 0 0 1 1 1 2 2]\n"
     ]
    },
    {
     "data": {
      "text/plain": [
       "(array([0.5, 0.3, 0.2]), array([0, 1, 2, 3]), <a list of 3 Patch objects>)"
      ]
     },
     "execution_count": 14,
     "metadata": {},
     "output_type": "execute_result"
    },
    {
     "data": {
      "image/png": "[encoded data removed]",
      "text/plain": [
       "<matplotlib.figure.Figure at 0x21d537330b8>"
      ]
     },
     "metadata": {
      "needs_background": "light"
     },
     "output_type": "display_data"
    }
   ],
   "source": [
    "#Distribuição de frequencias\n",
    "'0 - branca'\n",
    "'1 - vermelha'\n",
    "'2 - preta'\n",
    "\n",
    "universo = np.array([0,0,0,0,0,1,1,1,2,2])\n",
    "print(universo)\n",
    "\n",
    "plt.hist(universo,bins=[0,1,2,3],align='mid', weights=np.full(universo.shape, 1. / universo.size))"
   ]
  },
  {
   "cell_type": "markdown",
   "metadata": {},
   "source": [
    "#### 1.2.2 Distribuição Acumulada de Frequências\n",
    "\n",
    "> Função de Probabilidades Acumulada ou CDF (*Cumulative Distribution Function*)"
   ]
  },
  {
   "cell_type": "code",
   "execution_count": 15,
   "metadata": {},
   "outputs": [
    {
     "data": {
      "text/plain": [
       "(array([0.5, 0.8, 1. ]), array([0, 1, 2, 3]), <a list of 1 Patch objects>)"
      ]
     },
     "execution_count": 15,
     "metadata": {},
     "output_type": "execute_result"
    },
    {
     "data": {
      "image/png": "[encoded data removed]",
      "text/plain": [
       "<matplotlib.figure.Figure at 0x21d537cc198>"
      ]
     },
     "metadata": {
      "needs_background": "light"
     },
     "output_type": "display_data"
    }
   ],
   "source": [
    "# Função de Distribuição Acumulada\n",
    "plt.hist(universo,bins=[0,1,2,3],align='mid', weights=np.full(universo.shape, 1. / universo.size))\n",
    "plt.hist(universo,bins=[0,1,2,3],align='mid', weights=np.full(universo.shape, 1. / universo.size),cumulative=True,histtype='step')"
   ]
  },
  {
   "cell_type": "markdown",
   "metadata": {},
   "source": [
    "#### 1.2.3 Função Densidade de Probabilidades\n",
    "\n",
    "Usada **exclusivamente** para variáveis aleatórias contínuas. \n",
    "\n",
    "> Se a *frequência* da i-ésima barra é $f_i$, então sua *frequência relativa* é $r_i = f_i/n$, sendo $n$ o tamanho da amostra. Sua densidade é $d_i = r_i/w$, em que $w$ é a largura da barra, que deve ser a mesma para todo a distribuição. \n",
    "\n",
    "Sabendo a *densidade* $d_i$ e a largura da barra $w$, temos a *frequência relativa* $f_i = d_i \\cdot w$.\n",
    "A Função Densidade de Probabilidade (PDF - *Probability Density Function*) tem como principal propriedade:\n",
    "\n",
    "$$\\int_{-\\infty}^{\\infty}f(x)dx = 1$$\n",
    "\n",
    "> Em resumo, a PDF é usada para especificar a probabilidade de uma variável aleatória cair dentro de um *intervalo particular de valores*. "
   ]
  },
  {
   "cell_type": "code",
   "execution_count": 30,
   "metadata": {},
   "outputs": [
    {
     "data": {
      "text/plain": [
       "(array([0.5, 0.3, 0.2]), array([0, 1, 2, 3]), <a list of 3 Patch objects>)"
      ]
     },
     "execution_count": 30,
     "metadata": {},
     "output_type": "execute_result"
    },
    {
     "data": {
      "image/png": "[encoded data removed]",
      "text/plain": [
       "<matplotlib.figure.Figure at 0x21d54c6c6a0>"
      ]
     },
     "metadata": {
      "needs_background": "light"
     },
     "output_type": "display_data"
    }
   ],
   "source": [
    "# Função Densidade de Probabilidades\n",
    "plt.hist(universo,bins=[0,1,2,3],normed=True) #density=True"
   ]
  },
  {
   "cell_type": "code",
   "execution_count": 29,
   "metadata": {},
   "outputs": [
    {
     "data": {
      "text/plain": [
       "0.5"
      ]
     },
     "execution_count": 29,
     "metadata": {},
     "output_type": "execute_result"
    }
   ],
   "source": [
    "2.5*.2"
   ]
  },
  {
   "cell_type": "markdown",
   "metadata": {},
   "source": [
    "## 2. Modelos Discretos\n",
    "\n",
    "### 2.1. Ensaios de Bernoulli\n",
    "\n",
    "> Os ensaios de Bernoulli ocorrem em situações onde observamos apenas m elemento e verificamos se este tem (ou não) um certo atributo. Experimentos que admitem apenas **dois** resultados. $\\Omega = \\{1,0\\}$ (sim, não).\n",
    "\n",
    "Situações com alternativas **dicotômicas** podem ser representadas genericamente por resposta do tipo *sucesso* ou *insucesso* (*fracasso* ou *falha*). "
   ]
  },
  {
   "cell_type": "markdown",
   "metadata": {},
   "source": [
    "EXEMPLOS:\n",
    "\n",
    "- Uma peça é classificada como defeituosa ou não.\n",
    "- O resultado de um exame médico para alguma doença se é positivo ou negativo.\n",
    "- Um entrevistado concorda ou não com uma afirmação feita.\n",
    "- Um cidadão aprova ou não um determinado projeto municipal.\n",
    "- Usuário concorda ou não com o atendimento público."
   ]
  },
  {
   "cell_type": "markdown",
   "metadata": {},
   "source": [
    "### 2.2. Distribuição de Bernoulli\n",
    "\n",
    "Dada uma variável aleatória $X$ que assume apenas dois valores: 1 se ocorrer *sucesso* e 0 ocorrer *fracasso*.\n",
    "\n",
    "\\begin{equation}\n",
    "X =\n",
    "\\begin{cases}\n",
    "  0, & \\text{se não}\\\\\n",
    "  1, & \\text{se sim}\n",
    "\\end{cases}\n",
    "\\end{equation}\n",
    "\n",
    "O modelo de probabilidades é dado da seguinte forma:\n",
    "\n",
    "| $x$ | $1$ | $0$ |\n",
    "|---|---|------|\n",
    "| $P(x)$ | $\\pi$ | $1 - \\pi$ |\n",
    "\n",
    "Sendo,\n",
    " - $\\pi$ : a quantidade entre 0 e 1;\n",
    " - $x$ : um possível valor para a variável $X$ (no caso, 0 ou 1);\n",
    " - $P(x)$ : é a probabilidade de ocorrer o valor $x$.\n",
    " \n",
    " \n",
    " > Um modelo probabilístico, quando apresentado em termos de uma variável aleatória, também é chamado de *distribuição de probabilidades*."
   ]
  },
  {
   "cell_type": "markdown",
   "metadata": {},
   "source": [
    "EXEMPLO:\n",
    "\n",
    "- Seja uma urna com três bolas brancas e duas pretas. Extrair aleatoriamente duas bolas, com reposição da primeira antes de extrair a segunda. \n",
    "\n",
    "X : número de bolas pretas extraídas na amostra\n",
    "\n",
    "| $x$ | $P(x)$ |\n",
    "| --- | --- |\n",
    "| 0 | 0,36|\n",
    "| 1 | 0,48|\n",
    "| 2 | 0,16|"
   ]
  },
  {
   "cell_type": "code",
   "execution_count": 33,
   "metadata": {},
   "outputs": [
    {
     "name": "stdout",
     "output_type": "stream",
     "text": [
      "P(branca) e P(branca) =  0.36\n",
      "P(?) e P(?) =  0.48000000000000004\n",
      "P(preta) e P(preta) =  0.16\n"
     ]
    }
   ],
   "source": [
    "print('P(branca) e P(branca) = ', 3/5 * 3/5)\n",
    "print('P(?) e P(?) = ', (3/5 * 2/5) + (2/5 * 3/5))\n",
    "print('P(preta) e P(preta) = ', 2/5 * 2/5)"
   ]
  },
  {
   "cell_type": "markdown",
   "metadata": {},
   "source": [
    "- Seja uma urna com três bolas brancas e duas pretas. Extrair aleatoriamente duas bolas sem reposição da primeira antes de extrair a segunda. \n",
    "\n",
    "X : número de bolas pretas extraídas na amostra\n",
    "\n",
    "| $x$ | $P(x)$ |\n",
    "| --- | --- |\n",
    "| 0 | 0,3 |\n",
    "| 1 | 0,6 |\n",
    "| 2 | 0,1 |"
   ]
  },
  {
   "cell_type": "code",
   "execution_count": 34,
   "metadata": {},
   "outputs": [
    {
     "name": "stdout",
     "output_type": "stream",
     "text": [
      "P(BB) =  0.3\n",
      "P(BP ou PB) =  0.6000000000000001\n",
      "P(PP) =  0.1\n"
     ]
    }
   ],
   "source": [
    "print('P(BB) = ', 3/5 * 2/4)\n",
    "print('P(BP ou PB) = ', (3/5 * 2/4) + (2/5 * 3/4))\n",
    "print('P(PP) = ', 2/5 * 1/4)"
   ]
  },
  {
   "cell_type": "markdown",
   "metadata": {},
   "source": [
    "### 2.3. Modelo Binomial\n",
    "\n",
    "> Repetições de $n$ ensaios de Bernoulli independentes, todos com a mesma probabilidade de sucesso $\\pi$. A variável aleatória que conta o número de sucessos dos $n$ ensaios de Bernoulli é denominada a *variável aleatória binomial*.\n",
    "\n",
    "\n",
    "Um experimento é dito binomial quando:\n",
    "1. consiste de $n$ ensaios;\n",
    "1. cada ensaio tem apenas dois resultados de interesse: *sim* e *não*;\n",
    "1. os ensaios são *independentes*, com probabilidade constante $\\pi$ de ocorrer *sim* ($0<\\pi<1$).\n"
   ]
  },
  {
   "cell_type": "markdown",
   "metadata": {},
   "source": [
    "#### 2.3.1. Uso de tabelas\n",
    "\n",
    "\n",
    "[TABELA BINOMIAL](http://www.math.odu.edu/stat130/binomial-tables.pdf)\n",
    "\n",
    "<!--\n",
    "[TABELA BINOMIAL](https://mat.iitm.ac.in/home/vetri/public_html/statistics/binomial.pdf)\n",
    "-->"
   ]
  },
  {
   "cell_type": "markdown",
   "metadata": {},
   "source": [
    "EXEMPLO:\n",
    "\n",
    "- Seja a população de pessoas de um município em que 70% são favoráveis a um certo projeto municipal. Qual a probabilidade de que, numa amostra aleatória simples de 10 pessoas dessa população, a maioria seja favorável ao projeto?\n",
    "\n",
    "\n",
    "$n = 10$ e $\\pi = 0,70$\n",
    "\n",
    "$P(X>5)$?"
   ]
  },
  {
   "cell_type": "code",
   "execution_count": 36,
   "metadata": {},
   "outputs": [
    {
     "name": "stdout",
     "output_type": "stream",
     "text": [
      "P(X>5) = P(X=6) + P(X=7) + P(X=8) + P(X=9) + P(X=10) 0.8490000000000001\n"
     ]
    }
   ],
   "source": [
    "# P(X > 5) = ?\n",
    "print('P(X>5) = P(X=6) + P(X=7) + P(X=8) + P(X=9) + P(X=10)', \n",
    "      .2 + .267 + .233 + .121 + .028)"
   ]
  },
  {
   "cell_type": "markdown",
   "metadata": {},
   "source": [
    "## SIMULAÇÃO"
   ]
  },
  {
   "cell_type": "code",
   "execution_count": 114,
   "metadata": {},
   "outputs": [],
   "source": [
    "def voto():\n",
    "    if np.random.rand(1) > .7:\n",
    "        return 0\n",
    "    else:\n",
    "        return 1"
   ]
  },
  {
   "cell_type": "code",
   "execution_count": 115,
   "metadata": {},
   "outputs": [
    {
     "data": {
      "text/plain": [
       "0.8516"
      ]
     },
     "execution_count": 115,
     "metadata": {},
     "output_type": "execute_result"
    }
   ],
   "source": [
    "Aprova = 0\n",
    "replicacoes = 10000\n",
    "vetor = []\n",
    "\n",
    "for j in range(replicacoes):\n",
    "    amostra = []\n",
    "    for i in range(10):\n",
    "        amostra.append(voto())\n",
    "    \n",
    "    vetor.append(sum(amostra))\n",
    "    #print(amostra)\n",
    "    #print(sum(amostra))\n",
    "    if (sum(amostra)>5):\n",
    "        Aprova = Aprova + 1\n",
    "\n",
    "Aprova / replicacoes"
   ]
  },
  {
   "cell_type": "code",
   "execution_count": 102,
   "metadata": {},
   "outputs": [
    {
     "data": {
      "text/plain": [
       "(array([3.410e-01, 3.871e-01, 1.992e-01, 6.000e-02, 1.160e-02, 1.000e-03,\n",
       "        1.000e-04, 0.000e+00, 0.000e+00, 0.000e+00]),\n",
       " array([ 0,  1,  2,  3,  4,  5,  6,  7,  8,  9, 10]),\n",
       " <a list of 10 Patch objects>)"
      ]
     },
     "execution_count": 102,
     "metadata": {},
     "output_type": "execute_result"
    },
    {
     "data": {
      "image/png": "[encoded data removed]",
      "text/plain": [
       "<matplotlib.figure.Figure at 0x21d55494438>"
      ]
     },
     "metadata": {
      "needs_background": "light"
     },
     "output_type": "display_data"
    }
   ],
   "source": [
    "plt.hist(vetor,bins=range(11),normed=True)"
   ]
  },
  {
   "cell_type": "markdown",
   "metadata": {},
   "source": [
    "#### 2.3.2. Formulação matemática\n",
    "\n",
    "\\begin{equation}\n",
    "f(x) =\n",
    "\\begin{cases}\n",
    "  \\binom{n}{x} \\cdot \\pi^{x} \\cdot (1-\\pi)^{n-x}, & \\text{se} \\ x=0,1,...,n\\\\\n",
    "  0, & \\text{caso contrário}\n",
    "\\end{cases}\n",
    "\\end{equation}\n",
    "\n",
    "Em que:\n",
    "$$\n",
    " \\binom{n}{x} = \\frac{n!}{x!(n-x)!}\n",
    "$$\n",
    "\n",
    "\n",
    "Montar as funções:"
   ]
  },
  {
   "cell_type": "code",
   "execution_count": 103,
   "metadata": {},
   "outputs": [
    {
     "data": {
      "text/plain": [
       "120"
      ]
     },
     "execution_count": 103,
     "metadata": {},
     "output_type": "execute_result"
    }
   ],
   "source": [
    "def fatorial(num):\n",
    "    if num > 1:\n",
    "        return num * fatorial(num-1)\n",
    "    else:\n",
    "        return 1\n",
    "\n",
    "fatorial(5)"
   ]
  },
  {
   "cell_type": "code",
   "execution_count": 104,
   "metadata": {
    "collapsed": true
   },
   "outputs": [],
   "source": [
    "def binomial(n,p):\n",
    "    Probs = []\n",
    "    # criar os valores de X\n",
    "    for x in range(n+1):\n",
    "        valor = fatorial(n) / (fatorial(x) * fatorial(n-x))\n",
    "        valor = valor * (p ** x) * ((1 - p) ** (n-x))\n",
    "        Probs.append(valor)\n",
    "    return Probs\n",
    "    "
   ]
  },
  {
   "cell_type": "code",
   "execution_count": 131,
   "metadata": {},
   "outputs": [
    {
     "data": {
      "text/plain": [
       "[5.9049000000000085e-06,\n",
       " 0.00013778100000000018,\n",
       " 0.0014467005000000015,\n",
       " 0.009001692000000007,\n",
       " 0.03675690900000003,\n",
       " 0.10291934520000003,\n",
       " 0.20012094900000005,\n",
       " 0.266827932,\n",
       " 0.23347444049999994,\n",
       " 0.12106082099999996,\n",
       " 0.02824752489999998]"
      ]
     },
     "execution_count": 131,
     "metadata": {},
     "output_type": "execute_result"
    }
   ],
   "source": [
    "binomial(10,.7)\n"
   ]
  },
  {
   "cell_type": "code",
   "execution_count": 111,
   "metadata": {},
   "outputs": [
    {
     "data": {
      "text/plain": [
       "8"
      ]
     },
     "execution_count": 111,
     "metadata": {},
     "output_type": "execute_result"
    }
   ],
   "source": [
    "np.random.binomial(10,.7)"
   ]
  },
  {
   "cell_type": "code",
   "execution_count": 116,
   "metadata": {},
   "outputs": [
    {
     "data": {
      "text/plain": [
       "0.8484"
      ]
     },
     "execution_count": 116,
     "metadata": {},
     "output_type": "execute_result"
    }
   ],
   "source": [
    "iter = 10000\n",
    "sum(np.random.binomial(10,.7,size=iter) > 5)/iter"
   ]
  },
  {
   "cell_type": "code",
   "execution_count": 117,
   "metadata": {
    "collapsed": true
   },
   "outputs": [],
   "source": [
    "from scipy.stats import binom"
   ]
  },
  {
   "cell_type": "code",
   "execution_count": 118,
   "metadata": {},
   "outputs": [
    {
     "data": {
      "text/plain": [
       "<matplotlib.collections.LineCollection at 0x21d561baa20>"
      ]
     },
     "execution_count": 118,
     "metadata": {},
     "output_type": "execute_result"
    },
    {
     "data": {
      "image/png": "[encoded data removed]",
      "text/plain": [
       "<matplotlib.figure.Figure at 0x21d5621e5c0>"
      ]
     },
     "metadata": {
      "needs_background": "light"
     },
     "output_type": "display_data"
    }
   ],
   "source": [
    "n, p = 10, .7\n",
    "rv = binom(n,p)\n",
    "\n",
    "x = np.arange(0, n+1)\n",
    "#plt.plot(x, binom.pmf(x, n, p), 'bo', ms=8, label='binom pmf')\n",
    "plt.vlines(x,0,rv.pmf(x),color='k')"
   ]
  },
  {
   "cell_type": "markdown",
   "metadata": {},
   "source": [
    "## Exercício\n",
    "\n",
    "O professor da disciplina de Estatística elaborou uma prova de múltipla escolha, composta de 10 questões, cada uma com 5 alternativas. A **aprovação** na disciplina requer pelo menos ***6 questões corretas***. Se um aluno responde a todas as questões baseado no palpite (\"chute\"), qual a probabilidade de ser aprovado?\n"
   ]
  },
  {
   "cell_type": "code",
   "execution_count": 133,
   "metadata": {},
   "outputs": [
    {
     "data": {
      "text/plain": [
       "<matplotlib.collections.LineCollection at 0x21d55f56e10>"
      ]
     },
     "execution_count": 133,
     "metadata": {},
     "output_type": "execute_result"
    },
    {
     "data": {
      "image/png": "[encoded data removed]",
      "text/plain": [
       "<matplotlib.figure.Figure at 0x21d5615edd8>"
      ]
     },
     "metadata": {
      "needs_background": "light"
     },
     "output_type": "display_data"
    }
   ],
   "source": [
    "n, p = 10,.20\n",
    "rv = binom(n,p)\n",
    "\n",
    "x = np.arange(0, n+1)\n",
    "#plt.plot(x, binom.pmf(x, n, p), 'bo', ms=8, label='binom pmf')\n",
    "plt.vlines(x,0,rv.pmf(x),color='k')"
   ]
  },
  {
   "cell_type": "code",
   "execution_count": 134,
   "metadata": {},
   "outputs": [
    {
     "data": {
      "text/plain": [
       "array([1.07374182e-01, 2.68435456e-01, 3.01989888e-01, 2.01326592e-01,\n",
       "       8.80803840e-02, 2.64241152e-02, 5.50502400e-03, 7.86432000e-04,\n",
       "       7.37280000e-05, 4.09600000e-06, 1.02400000e-07])"
      ]
     },
     "execution_count": 134,
     "metadata": {},
     "output_type": "execute_result"
    }
   ],
   "source": [
    "rv.pmf(x)"
   ]
  },
  {
   "cell_type": "code",
   "execution_count": 139,
   "metadata": {},
   "outputs": [
    {
     "data": {
      "text/plain": [
       "[0.10737418240000006,\n",
       " 0.2684354560000001,\n",
       " 0.3019898880000002,\n",
       " 0.2013265920000001,\n",
       " 0.08808038400000005,\n",
       " 0.02642411520000001,\n",
       " 0.005505024000000003,\n",
       " 0.0007864320000000004,\n",
       " 7.372800000000005e-05,\n",
       " 4.096000000000002e-06,\n",
       " 1.0240000000000006e-07]"
      ]
     },
     "execution_count": 139,
     "metadata": {},
     "output_type": "execute_result"
    }
   ],
   "source": [
    "binomial(10,.2)"
   ]
  },
  {
   "cell_type": "markdown",
   "metadata": {},
   "source": [
    "## SIMULAÇÃO"
   ]
  },
  {
   "cell_type": "code",
   "execution_count": null,
   "metadata": {
    "collapsed": true
   },
   "outputs": [],
   "source": [
    "np.random.randint(0,2)"
   ]
  },
  {
   "cell_type": "markdown",
   "metadata": {
    "colab": {},
    "colab_type": "code",
    "id": "u41Zr7M9nTCV"
   },
   "source": [
    "---\n",
    "## Referências\n",
    "\n",
    "- BARBETTA, P. A. *Estatística aplicada à Ciências Sociais*. 2014\n",
    "- DEVLIN, T.; GUO, J.; KUNIN, D.; XIANG, D. *Seeing Theory*. 2018 [Web](https://seeing-theory.brown.edu/basic-probability/index.html) | [Book](https://seeing-theory.brown.edu/doc/seeing-theory.pdf)\n",
    "- NUMFOCUS. *Matplotlib Documentation* [Web](https://matplotlib.org/)"
   ]
  }
 ],
 "metadata": {
  "colab": {
   "collapsed_sections": [],
   "name": "aula01_Pesquisa_Dados.ipynb",
   "provenance": [],
   "toc_visible": true,
   "version": "0.3.2"
  },
  "kernelspec": {
   "display_name": "Python 3",
   "language": "python",
   "name": "python3"
  },
  "language_info": {
   "codemirror_mode": {
    "name": "ipython",
    "version": 3
   },
   "file_extension": ".py",
   "mimetype": "text/x-python",
   "name": "python",
   "nbconvert_exporter": "python",
   "pygments_lexer": "ipython3",
   "version": "3.6.2"
  }
 },
 "nbformat": 4,
 "nbformat_minor": 2
}
