{
 "cells": [
  {
   "cell_type": "code",
   "execution_count": 4,
   "metadata": {},
   "outputs": [],
   "source": [
    "import numpy as np\n",
    "import random"
   ]
  },
  {
   "cell_type": "code",
   "execution_count": 16,
   "metadata": {},
   "outputs": [
    {
     "data": {
      "text/plain": [
       "array([ 0,  1,  2,  3,  4,  5,  6,  7,  8,  9, 10, 11, 12, 13, 14, 15, 16,\n",
       "       17, 18, 19, 20, 21, 22, 23, 24, 25, 26, 27, 28, 29, 30, 31, 32, 33,\n",
       "       34, 35, 36, 37, 38, 39, 40, 41, 42, 43, 44, 45, 46, 47, 48, 49, 50,\n",
       "       51, 52, 53, 54, 55, 56, 57, 58, 59, 60, 61, 62, 63, 64, 65, 66, 67,\n",
       "       68, 69, 70, 71, 72, 73, 74, 75, 76, 77, 78, 79, 80, 81, 82, 83, 84,\n",
       "       85, 86, 87, 88, 89, 90, 91, 92, 93, 94, 95, 96, 97, 98, 99])"
      ]
     },
     "execution_count": 16,
     "metadata": {},
     "output_type": "execute_result"
    }
   ],
   "source": [
    "x = np.arange(0,100,1)\n",
    "x"
   ]
  },
  {
   "cell_type": "code",
   "execution_count": 18,
   "metadata": {},
   "outputs": [
    {
     "data": {
      "text/plain": [
       "array([87, 73, 85, 95, 32, 67, 31, 42, 62, 70,  6,  1, 16,  2,  0, 83, 33,\n",
       "       56, 98, 77, 14, 65, 66, 43, 71, 91, 30, 11, 48, 97, 72, 15, 17, 80,\n",
       "       21, 96, 12, 89, 19, 37, 40, 45, 57,  9, 20, 59, 39,  3, 64,  8, 46,\n",
       "       25, 29,  7, 51, 84, 74, 23, 61, 99, 94, 34, 58, 55, 44, 69,  4, 53,\n",
       "       93, 28, 10, 60, 49, 26, 88, 75, 92, 24, 27, 79,  5, 81, 50, 52, 18,\n",
       "       13, 86, 22, 63, 76, 41, 82, 68, 38, 35, 47, 90, 54, 36, 78])"
      ]
     },
     "execution_count": 18,
     "metadata": {},
     "output_type": "execute_result"
    }
   ],
   "source": [
    "np.random.shuffle(x)\n",
    "x"
   ]
  },
  {
   "cell_type": "code",
   "execution_count": 14,
   "metadata": {},
   "outputs": [
    {
     "data": {
      "text/plain": [
       "[21,\n",
       " 89,\n",
       " 11,\n",
       " 14,\n",
       " 90,\n",
       " 78,\n",
       " 55,\n",
       " 23,\n",
       " 64,\n",
       " 75,\n",
       " 96,\n",
       " 26,\n",
       " 40,\n",
       " 86,\n",
       " 57,\n",
       " 61,\n",
       " 93,\n",
       " 97,\n",
       " 70,\n",
       " 92,\n",
       " 16,\n",
       " 34,\n",
       " 65,\n",
       " 18,\n",
       " 51,\n",
       " 9,\n",
       " 45,\n",
       " 36,\n",
       " 62,\n",
       " 67,\n",
       " 38,\n",
       " 43,\n",
       " 31,\n",
       " 71,\n",
       " 80,\n",
       " 66,\n",
       " 6,\n",
       " 50,\n",
       " 99,\n",
       " 52,\n",
       " 77,\n",
       " 29,\n",
       " 60,\n",
       " 69,\n",
       " 91,\n",
       " 4,\n",
       " 3,\n",
       " 63,\n",
       " 15,\n",
       " 94,\n",
       " 49,\n",
       " 19,\n",
       " 28,\n",
       " 12,\n",
       " 39,\n",
       " 83,\n",
       " 41,\n",
       " 10,\n",
       " 54,\n",
       " 32,\n",
       " 56,\n",
       " 82,\n",
       " 44,\n",
       " 73,\n",
       " 87,\n",
       " 27,\n",
       " 1,\n",
       " 74,\n",
       " 84,\n",
       " 88,\n",
       " 85,\n",
       " 17,\n",
       " 7,\n",
       " 59,\n",
       " 25,\n",
       " 37,\n",
       " 95,\n",
       " 58,\n",
       " 22,\n",
       " 81,\n",
       " 79,\n",
       " 46,\n",
       " 0,\n",
       " 72,\n",
       " 98,\n",
       " 5,\n",
       " 20,\n",
       " 47,\n",
       " 8,\n",
       " 68,\n",
       " 76,\n",
       " 2,\n",
       " 30,\n",
       " 33,\n",
       " 48,\n",
       " 35,\n",
       " 42,\n",
       " 53,\n",
       " 13,\n",
       " 24]"
      ]
     },
     "execution_count": 14,
     "metadata": {},
     "output_type": "execute_result"
    }
   ],
   "source": [
    "id = random.sample(list(x),100)\n",
    "id"
   ]
  },
  {
   "cell_type": "code",
   "execution_count": 15,
   "metadata": {},
   "outputs": [
    {
     "data": {
      "text/plain": [
       "array([21, 89, 11, 14, 90, 78, 55, 23, 64, 75, 96, 26, 40, 86, 57, 61, 93,\n",
       "       97, 70, 92, 16, 34, 65, 18, 51,  9, 45, 36, 62, 67, 38, 43, 31, 71,\n",
       "       80, 66,  6, 50, 99, 52, 77, 29, 60, 69, 91,  4,  3, 63, 15, 94, 49,\n",
       "       19, 28, 12, 39, 83, 41, 10, 54, 32, 56, 82, 44, 73, 87, 27,  1, 74,\n",
       "       84, 88, 85, 17,  7, 59, 25, 37, 95, 58, 22, 81, 79, 46,  0, 72, 98,\n",
       "        5, 20, 47,  8, 68, 76,  2, 30, 33, 48, 35, 42, 53, 13, 24])"
      ]
     },
     "execution_count": 15,
     "metadata": {},
     "output_type": "execute_result"
    }
   ],
   "source": [
    "x[id]"
   ]
  },
  {
   "cell_type": "code",
   "execution_count": null,
   "metadata": {},
   "outputs": [],
   "source": []
  }
 ],
 "metadata": {
  "kernelspec": {
   "display_name": "Python 3",
   "language": "python",
   "name": "python3"
  },
  "language_info": {
   "codemirror_mode": {
    "name": "ipython",
    "version": 3
   },
   "file_extension": ".py",
   "mimetype": "text/x-python",
   "name": "python",
   "nbconvert_exporter": "python",
   "pygments_lexer": "ipython3",
   "version": "3.7.3"
  }
 },
 "nbformat": 4,
 "nbformat_minor": 2
}
