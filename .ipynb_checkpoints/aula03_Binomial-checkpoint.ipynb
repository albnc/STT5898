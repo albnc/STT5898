{
 "cells": [
  {
   "cell_type": "markdown",
   "metadata": {
    "colab_type": "text",
    "id": "ktsKGUIIik-A"
   },
   "source": [
    "# **STT5898 - Estatística aplicada à Engenharia de Transportes**\n",
    "\n",
    "#### *Prof. André Luiz Cunha*\n",
    "---"
   ]
  },
  {
   "cell_type": "markdown",
   "metadata": {},
   "source": [
    "# O QUE VIMOS ATÉ AQUI?\n",
    "\n",
    "- Amostragem\n",
    "\n",
    "\n",
    "- Explorando os dados\n",
    "    - Variáveis qualitativas\n",
    "    - Variáveis quantitativas\n",
    "\n",
    "\n",
    "- Medidas Descritivas\n",
    "    - Média\n",
    "    - Desvio Padrão\n",
    "    - Variância\n",
    "    - Intervalo\n",
    "    - Quartis e Percentis\n",
    "    - Box-plot\n",
    "\n",
    "\n",
    "- Planejamento de experimentos\n",
    "\n",
    "\n",
    "- Probabilidades"
   ]
  },
  {
   "cell_type": "code",
   "execution_count": 4,
   "metadata": {},
   "outputs": [],
   "source": [
    "import numpy as np\n",
    "import matplotlib.pyplot as plt"
   ]
  },
  {
   "cell_type": "markdown",
   "metadata": {
    "colab_type": "text",
    "id": "UJkuhXoeik-C"
   },
   "source": [
    "# MODELOS PROBABILÍSTICOS\n",
    "\n",
    "Na aula anterior, predominou o racicínio indutivo: com base na descrição dos dados observados (distribuição de frequências), procuramos fazer conjeturas sobre o universo (população) em estudo.\n",
    "\n",
    "Nesta aula, aplicaremos o inverso, raciocínio dedutivo, em que procuramos entender como poderão ocorrer resultados de uma variável, considerando certas suposições a respeito do problema em estudo.\n",
    "\n",
    "<img src=\"_imgs/ModelosProbabilisticos.png\"\n",
    "     alt=\"\"\n",
    "     style=\"float:left;height:300px\" />"
   ]
  },
  {
   "cell_type": "markdown",
   "metadata": {},
   "source": [
    "## 1. Definições básicas\n",
    "\n",
    "> Os ***modelos probabilísticos*** são constituídos de certas hipóteses ou conjeturas sobre o problema em questão e constituem-se de duas partes:\n",
    "> 1. dos possíveos resultados\n",
    "> 2. de uma certa *lei* que nos diz quão provável é cada resultados"
   ]
  },
  {
   "cell_type": "markdown",
   "metadata": {},
   "source": [
    "### 1.1 Espaço amostral e eventos\n",
    "\n",
    "> ***Espaço amostral*** é o conjunto de todos os resultados possíveis do experimento e será denotado por $\\Omega$\n",
    "\n",
    "\n",
    "EXEMPLOS:\n",
    "\n",
    "- Lançar uma moeda.\n",
    "$\\Omega$ = {}\n",
    "\n",
    "- Lançar um dado.\n",
    "$\\Omega$ = {}\n",
    "\n",
    "- Numa escola, selecionar um aluno e medir a sua altura.\n",
    "$\\Omega$ = {}\n",
    "\n",
    "- Em certo bairro, selecionar dez famílias e verificar quantas utilizam algum programa de alimentação popular.\n",
    "$\\Omega$ = {}"
   ]
  },
  {
   "cell_type": "markdown",
   "metadata": {},
   "source": [
    "> ***Evento*** é um conjunto de resutados do experimento\n",
    "\n",
    "EXEMPLOS: \n",
    "\n",
    "- Lançamento de um dado. \n",
    "\n",
    "Evento A : ocorrer um número par no lançamento de dados.\n",
    "$A$ = {}\n",
    "\n",
    "- Medir a altura de um aluno\n",
    "\n",
    "Evento B : ocorrer um número par.\n",
    "$B$ = {}"
   ]
  },
  {
   "cell_type": "markdown",
   "metadata": {},
   "source": [
    "### 1.2. Probabilidades\n",
    "\n",
    "> ***Probabilidade*** é um valor entre 0 (zero) e 1 (um). A soma das probabilidades de todos os resultados possíveis do experimento deve ser igual a 1 (um). \n",
    "\n",
    "$$P(A) = \\frac{n_{A}}{N}$$\n",
    "\n",
    "\n",
    "EXEMPLO:\n",
    "- Seja uma urna com 5 bolas brancas, 3 vermelhas e 2 pretas. Selecionar uma bola ao acaso. Qual a probabilidade da bola selecionada ser branca ou vermelha?"
   ]
  },
  {
   "cell_type": "code",
   "execution_count": 5,
   "metadata": {},
   "outputs": [
    {
     "name": "stdout",
     "output_type": "stream",
     "text": [
      "P(branca ou vermelha) = ?\n",
      "P(branca ou vermelha) = ?\n"
     ]
    }
   ],
   "source": [
    "# P(branca ou vermelha) = ?\n",
    "print('P(branca ou vermelha) = ?' )\n",
    "print('P(branca ou vermelha) = ?' )"
   ]
  },
  {
   "cell_type": "markdown",
   "metadata": {},
   "source": [
    "> Dois eventos são ***independentes*** quando a ocorrência de um deles não altera a probabilidade da ocorrência do outro.\n",
    "\n",
    "EXEMPLO:\n",
    "\n",
    "- Em uma urna com 5 bolas brancas, 3 vermelhas e 2 pretas. Ao selecionar duas bolas, com reposição, qual a probabilidade de ocorrer bolas vermelhas em ambas?"
   ]
  },
  {
   "cell_type": "code",
   "execution_count": 6,
   "metadata": {},
   "outputs": [
    {
     "name": "stdout",
     "output_type": "stream",
     "text": [
      "P(vermelha) e P(vermelha) = ?\n"
     ]
    }
   ],
   "source": [
    "print('P(vermelha) e P(vermelha) = ?' )"
   ]
  },
  {
   "cell_type": "markdown",
   "metadata": {},
   "source": [
    "#### 1.2.1 Distribuição de Frequências\n",
    "\n",
    "Usada no contexto de variáveis aleatórias discretas.\n",
    "\n",
    "> A *função de distribuição de probabilidades*, *função de probabilidades* ou PMF (*probability mass funtion*) é usada quando a distribuição de frequências é definida em função de um conjunto de valores (discretos)."
   ]
  },
  {
   "cell_type": "code",
   "execution_count": 26,
   "metadata": {},
   "outputs": [
    {
     "name": "stdout",
     "output_type": "stream",
     "text": [
      "[0 0 0 0 0 1 1 1 2 2]\n"
     ]
    },
    {
     "data": {
      "text/plain": [
       "(array([0.5, 0.3, 0.2]), array([0, 1, 2, 3]), <a list of 3 Patch objects>)"
      ]
     },
     "execution_count": 26,
     "metadata": {},
     "output_type": "execute_result"
    },
    {
     "data": {
      "image/png": "[encoded data removed]",
      "text/plain": [
       "<Figure size 432x288 with 1 Axes>"
      ]
     },
     "metadata": {
      "needs_background": "light"
     },
     "output_type": "display_data"
    }
   ],
   "source": [
    "#Distribuição de frequencias\n",
    "'0 - branca'\n",
    "'1 - vermelha'\n",
    "'2 - preta'\n",
    "\n",
    "universo = np.array([0,0,0,0,0,1,1,1,2,2])\n",
    "print(universo)\n",
    "\n",
    "plt.hist(universo,bins=[0,1,2,3],align='mid', weights=np.full(universo.shape, 1. / universo.size))"
   ]
  },
  {
   "cell_type": "markdown",
   "metadata": {},
   "source": [
    "#### 1.2.2 Distribuição Acumulada de Frequências\n",
    "\n",
    "> Função de Probabilidades Acumulada ou CDF (*Cumulative Distribution Function*)"
   ]
  },
  {
   "cell_type": "code",
   "execution_count": 24,
   "metadata": {},
   "outputs": [
    {
     "data": {
      "text/plain": [
       "(array([0.5, 0.8, 1. ]), array([0, 1, 2, 3]), <a list of 1 Patch objects>)"
      ]
     },
     "execution_count": 24,
     "metadata": {},
     "output_type": "execute_result"
    },
    {
     "data": {
      "image/png": "[encoded data removed]",
      "text/plain": [
       "<Figure size 432x288 with 1 Axes>"
      ]
     },
     "metadata": {
      "needs_background": "light"
     },
     "output_type": "display_data"
    }
   ],
   "source": [
    "# Função de Distribuição Acumulada\n",
    "plt.hist(universo,bins=[0,1,2,3],align='mid', weights=np.full(universo.shape, 1. / universo.size))\n",
    "plt.hist(universo,bins=[0,1,2,3],align='mid', weights=np.full(universo.shape, 1. / universo.size),cumulative=True,histtype='step')"
   ]
  },
  {
   "cell_type": "markdown",
   "metadata": {},
   "source": [
    "#### 1.2.3 Função Densidade de Probabilidades\n",
    "\n",
    "Usada **exclusivamente** para variáveis aleatórias contínuas. \n",
    "\n",
    "> Se a *frequência* da i-ésima barra é $f_i$, então sua *frequência relativa* é $r_i = f_i/n$, sendo $n$ o tamanho da amostra. Sua densidade é $d_i = r_i/w$, em que $w$ é a largura da barra, que deve ser a mesma para todo a distribuição. \n",
    "\n",
    "Sabendo a *densidade* $d_i$ e a largura da barra $w$, temos a *frequência relativa* $f_i = d_i \\cdot w$.\n",
    "A Função Densidade de Probabilidade (PDF - *Probability Density Function*) tem como principal propriedade:\n",
    "\n",
    "$$\\int_{-\\infty}^{\\infty}f(x)dx = 1$$\n",
    "\n",
    "> Em resumo, a PDF é usada para especificar a probabilidade de uma variável aleatória cair dentro de um *intervalo particular de valores*. "
   ]
  },
  {
   "cell_type": "code",
   "execution_count": 32,
   "metadata": {},
   "outputs": [
    {
     "data": {
      "text/plain": [
       "(array([0.5, 0.3, 0.2]), array([0, 1, 2, 3]), <a list of 3 Patch objects>)"
      ]
     },
     "execution_count": 32,
     "metadata": {},
     "output_type": "execute_result"
    },
    {
     "data": {
      "image/png": "[encoded data removed]",
      "text/plain": [
       "<Figure size 432x288 with 1 Axes>"
      ]
     },
     "metadata": {
      "needs_background": "light"
     },
     "output_type": "display_data"
    }
   ],
   "source": [
    "# Função Densidade de Probabilidades\n",
    "plt.hist(universo,bins=[0,1,2,3], density=True)"
   ]
  },
  {
   "cell_type": "markdown",
   "metadata": {},
   "source": [
    "## 2. Modelos Discretos\n",
    "\n",
    "### 2.1. Ensaios de Bernoulli\n",
    "\n",
    "> Os ensaios de Bernoulli ocorrem em situações onde observamos apenas m elemento e verificamos se este tem (ou não) um certo atributo. Experimentos que admitem apenas **dois** resultados. $\\Omega = \\{1,0\\}$ (sim, não).\n",
    "\n",
    "Situações com alternativas **dicotômicas** podem ser representadas genericamente por resposta do tipo *sucesso* ou *insucesso* (*fracasso* ou *falha*). "
   ]
  },
  {
   "cell_type": "markdown",
   "metadata": {},
   "source": [
    "EXEMPLOS:\n",
    "\n",
    "- Uma peça é classificada como defeituosa ou não.\n",
    "- O resultado de um exame médico para alguma doença se é positivo ou negativo.\n",
    "- Um entrevistado concorda ou não com uma afirmação feita.\n",
    "- Um cidadão aprova ou não um determinado projeto municipal.\n",
    "- Usuário concorda ou não com o atendimento público."
   ]
  },
  {
   "cell_type": "markdown",
   "metadata": {},
   "source": [
    "### 2.2. Distribuição de Bernoulli\n",
    "\n",
    "Dada uma variável aleatória $X$ que assume apenas dois valores: 1 se ocorrer *sucesso* e 0 ocorrer *fracasso*.\n",
    "\n",
    "\\begin{equation}\n",
    "X =\n",
    "\\begin{cases}\n",
    "  0, & \\text{se não}\\\\\n",
    "  1, & \\text{se sim}\n",
    "\\end{cases}\n",
    "\\end{equation}\n",
    "\n",
    "O modelo de probabilidades é dado da seguinte forma:\n",
    "\n",
    "| $x$ | $1$ | $0$ |\n",
    "|---|---|------|\n",
    "| $P(x)$ | $\\pi$ | $1 - \\pi$ |\n",
    "\n",
    "Sendo,\n",
    " - $\\pi$ : a quantidade entre 0 e 1;\n",
    " - $x$ : um possível valor para a variável $X$ (no caso, 0 ou 1);\n",
    " - $P(x)$ : é a probabilidade de ocorrer o valor $x$.\n",
    " \n",
    " \n",
    " > Um modelo probabilístico, quando apresentado em termos de uma variável aleatória, também é chamado de *distribuição de probabilidades*."
   ]
  },
  {
   "cell_type": "markdown",
   "metadata": {},
   "source": [
    "EXEMPLO:\n",
    "\n",
    "- Seja uma urna com três bolas brancas e duas pretas. Extrair aleatoriamente duas bolas, com reposição da primeira antes de extrair a segunda. \n",
    "\n",
    "X : número de bolas pretas extraídas na amostra\n",
    "\n",
    "| $x$ | $P(x)$ |\n",
    "| --- | --- |\n",
    "| 0 | |\n",
    "| 1 | |\n",
    "| 2 | |"
   ]
  },
  {
   "cell_type": "code",
   "execution_count": 34,
   "metadata": {},
   "outputs": [
    {
     "name": "stdout",
     "output_type": "stream",
     "text": [
      "P(branca) e P(branca) = \n",
      "P(?) e P(?) = \n",
      "P(preta) e P(preta) = \n"
     ]
    }
   ],
   "source": [
    "print('P(branca) e P(branca) = ')\n",
    "print('P(?) e P(?) = ')\n",
    "print('P(preta) e P(preta) = ')"
   ]
  },
  {
   "cell_type": "markdown",
   "metadata": {},
   "source": [
    "- Seja uma urna com três bolas brancas e duas pretas. Extrair aleatoriamente duas bolas sem reposição da primeira antes de extrair a segunda. \n",
    "\n",
    "X : número de bolas pretas extraídas na amostra\n",
    "\n",
    "| $x$ | $P(x)$ |\n",
    "| --- | --- |\n",
    "| 0 | |\n",
    "| 1 | |\n",
    "| 2 | |"
   ]
  },
  {
   "cell_type": "code",
   "execution_count": 35,
   "metadata": {},
   "outputs": [
    {
     "name": "stdout",
     "output_type": "stream",
     "text": [
      "P(BB) = \n",
      "P(BP ou PB) = \n",
      "P(PP) = \n"
     ]
    }
   ],
   "source": [
    "print('P(BB) = ')\n",
    "print('P(BP ou PB) = ')\n",
    "print('P(PP) = ')"
   ]
  },
  {
   "cell_type": "markdown",
   "metadata": {},
   "source": [
    "### 2.3. Modelo Binomial\n",
    "\n",
    "> Repetições de $n$ ensaios de Bernoulli independentes, todos com a mesma probabilidade de sucesso $\\pi$. A variável aleatória que conta o número de sucessos dos $n$ ensaios de Bernoulli é denominada a *variável aleatória binomial*.\n",
    "\n",
    "\n",
    "Um experimento é dito binomial quando:\n",
    "1. consiste de $n$ ensaios;\n",
    "1. cada ensaio tem apenas dois resultados de interesse: *sim* e *não*;\n",
    "1. os ensaios são *independentes*, com probabilidade constante $\\pi$ de ocorrer *sim* ($0<\\pi<1$).\n"
   ]
  },
  {
   "cell_type": "markdown",
   "metadata": {},
   "source": [
    "#### 2.3.1. Uso de tabelas\n",
    "\n",
    "\n",
    "[TABELA BINOMIAL](http://www.math.odu.edu/stat130/binomial-tables.pdf)\n",
    "\n",
    "<!--\n",
    "[TABELA BINOMIAL](https://mat.iitm.ac.in/home/vetri/public_html/statistics/binomial.pdf)\n",
    "-->"
   ]
  },
  {
   "cell_type": "markdown",
   "metadata": {},
   "source": [
    "EXEMPLO:\n",
    "\n",
    "- Seja a população de pessoas de um município em que 70% são favoráveis a um certo projeto municipal. Qual a probabilidade de que, numa amostra aleatória simples de 10 pessoas dessa população, a maioria seja favorável ao projeto?\n",
    "\n",
    "\n",
    "$n = 10$ e $\\pi = 0,70$\n",
    "\n",
    "$P(X>5)$?"
   ]
  },
  {
   "cell_type": "code",
   "execution_count": 36,
   "metadata": {},
   "outputs": [],
   "source": [
    "# P(X > 5) = ?"
   ]
  },
  {
   "cell_type": "markdown",
   "metadata": {},
   "source": [
    "#### 2.3.2. Formulação matemática\n",
    "\n",
    "\\begin{equation}\n",
    "f(x) =\n",
    "\\begin{cases}\n",
    "  \\binom{n}{x} \\cdot \\pi^{x} \\cdot (1-\\pi)^{1-x}, & \\text{se} \\ x=0,1,...,n\\\\\n",
    "  0, & \\text{caso contrário}\n",
    "\\end{cases}\n",
    "\\end{equation}\n",
    "\n",
    "Em que:\n",
    "$$\n",
    " \\binom{n}{x} = \\frac{n!}{x!(n-x)!}\n",
    "$$"
   ]
  },
  {
   "cell_type": "code",
   "execution_count": 49,
   "metadata": {},
   "outputs": [
    {
     "data": {
      "text/plain": [
       "0.8544"
      ]
     },
     "execution_count": 49,
     "metadata": {},
     "output_type": "execute_result"
    }
   ],
   "source": [
    "iter = 10000\n",
    "sum(np.random.binomial(10,.7,size=iter) > 5)/iter"
   ]
  },
  {
   "cell_type": "code",
   "execution_count": 51,
   "metadata": {},
   "outputs": [],
   "source": [
    "from scipy.stats import binom"
   ]
  },
  {
   "cell_type": "code",
   "execution_count": 82,
   "metadata": {},
   "outputs": [
    {
     "data": {
      "text/plain": [
       "2.0"
      ]
     },
     "execution_count": 82,
     "metadata": {},
     "output_type": "execute_result"
    }
   ],
   "source": [
    "n, p = 10, .2\n",
    "binom.ppf(.6,n,p)"
   ]
  },
  {
   "cell_type": "code",
   "execution_count": 91,
   "metadata": {},
   "outputs": [
    {
     "data": {
      "text/plain": [
       "<matplotlib.collections.LineCollection at 0x1ec369eb4e0>"
      ]
     },
     "execution_count": 91,
     "metadata": {},
     "output_type": "execute_result"
    },
    {
     "data": {
      "image/png": "[encoded data removed]",
      "text/plain": [
       "<Figure size 432x288 with 1 Axes>"
      ]
     },
     "metadata": {
      "needs_background": "light"
     },
     "output_type": "display_data"
    }
   ],
   "source": [
    "n, p = 10, .7\n",
    "rv = binom(n,p)\n",
    "\n",
    "x = np.arange(0, n+1)\n",
    "#plt.plot(x, binom.pmf(x, n, p), 'bo', ms=8, label='binom pmf')\n",
    "plt.vlines(x,0,rv.pmf(x),color='k')"
   ]
  },
  {
   "cell_type": "markdown",
   "metadata": {},
   "source": [
    "## Exercício\n",
    "\n",
    "O professor da disciplina de Estatística elaborou uma prova de múltipla escolha, composta de 10 questões, cada uma com 5 alternativas. A **aprovação** na disciplina requer pelo menos ***6 questões corretas***. Se um aluno responde a todas as questões baseado no palpite (\"chute\"), qual a probabilidade de ser aprovado?\n"
   ]
  },
  {
   "cell_type": "code",
   "execution_count": 96,
   "metadata": {},
   "outputs": [
    {
     "data": {
      "text/plain": [
       "<matplotlib.collections.LineCollection at 0x1ec36aa94e0>"
      ]
     },
     "execution_count": 96,
     "metadata": {},
     "output_type": "execute_result"
    },
    {
     "data": {
      "image/png": "[encoded data removed]",
      "text/plain": [
       "<Figure size 432x288 with 1 Axes>"
      ]
     },
     "metadata": {
      "needs_background": "light"
     },
     "output_type": "display_data"
    }
   ],
   "source": [
    "n, p = 10, .2\n",
    "rv = binom(n,p)\n",
    "\n",
    "x = np.arange(0, n+1)\n",
    "#plt.plot(x, binom.pmf(x, n, p), 'bo', ms=8, label='binom pmf')\n",
    "plt.vlines(x,0,rv.pmf(x),color='k')"
   ]
  },
  {
   "cell_type": "code",
   "execution_count": 98,
   "metadata": {},
   "outputs": [
    {
     "ename": "NameError",
     "evalue": "name 'random' is not defined",
     "output_type": "error",
     "traceback": [
      "\u001b[1;31m---------------------------------------------------------------------------\u001b[0m",
      "\u001b[1;31mNameError\u001b[0m                                 Traceback (most recent call last)",
      "\u001b[1;32m<ipython-input-98-563bd099f59a>\u001b[0m in \u001b[0;36m<module>\u001b[1;34m\u001b[0m\n\u001b[0;32m      2\u001b[0m \u001b[0mtrials\u001b[0m \u001b[1;33m=\u001b[0m \u001b[1;36m1000\u001b[0m\u001b[1;33m\u001b[0m\u001b[1;33m\u001b[0m\u001b[0m\n\u001b[0;32m      3\u001b[0m \u001b[1;32mfor\u001b[0m \u001b[0mi\u001b[0m \u001b[1;32min\u001b[0m \u001b[0mrange\u001b[0m\u001b[1;33m(\u001b[0m\u001b[0mtrials\u001b[0m\u001b[1;33m)\u001b[0m\u001b[1;33m:\u001b[0m\u001b[1;33m\u001b[0m\u001b[1;33m\u001b[0m\u001b[0m\n\u001b[1;32m----> 4\u001b[1;33m     \u001b[0mprova\u001b[0m \u001b[1;33m=\u001b[0m \u001b[0mrandom\u001b[0m\u001b[1;33m.\u001b[0m\u001b[0mrandint\u001b[0m\u001b[1;33m(\u001b[0m\u001b[1;36m2\u001b[0m\u001b[1;33m,\u001b[0m\u001b[1;36m10\u001b[0m\u001b[1;33m)\u001b[0m\u001b[1;33m\u001b[0m\u001b[1;33m\u001b[0m\u001b[0m\n\u001b[0m\u001b[0;32m      5\u001b[0m     \u001b[1;32mif\u001b[0m\u001b[1;33m(\u001b[0m\u001b[0mprova\u001b[0m\u001b[1;33m.\u001b[0m\u001b[0msum\u001b[0m\u001b[1;33m(\u001b[0m\u001b[1;33m)\u001b[0m \u001b[1;33m>=\u001b[0m \u001b[1;36m6\u001b[0m\u001b[1;33m)\u001b[0m\u001b[1;33m:\u001b[0m\u001b[1;33m\u001b[0m\u001b[1;33m\u001b[0m\u001b[0m\n\u001b[0;32m      6\u001b[0m         \u001b[0mAprovado\u001b[0m \u001b[1;33m+=\u001b[0m \u001b[1;36m1\u001b[0m\u001b[1;33m\u001b[0m\u001b[1;33m\u001b[0m\u001b[0m\n",
      "\u001b[1;31mNameError\u001b[0m: name 'random' is not defined"
     ]
    }
   ],
   "source": [
    "Aprovado = 0\n",
    "trials = 1000\n",
    "for i in range(trials):\n",
    "    prova = random.randint(2,10)\n",
    "    if(prova.sum() >= 6):\n",
    "        Aprovado += 1\n",
    "\n",
    "p = Aprovado / trials\n",
    "print(p)"
   ]
  },
  {
   "cell_type": "markdown",
   "metadata": {
    "colab": {},
    "colab_type": "code",
    "id": "u41Zr7M9nTCV"
   },
   "source": [
    "---\n",
    "## Referências\n",
    "\n",
    "- BARBETTA, P. A. *Estatística aplicada à Ciências Sociais*. 2014\n",
    "- DEVLIN, T.; GUO, J.; KUNIN, D.; XIANG, D. *Seeing Theory*. 2018 [Web](https://seeing-theory.brown.edu/basic-probability/index.html) | [Book](https://seeing-theory.brown.edu/doc/seeing-theory.pdf)\n",
    "- NUMFOCUS. *Matplotlib Documentation* [Web](https://matplotlib.org/)"
   ]
  },
  {
   "cell_type": "code",
   "execution_count": null,
   "metadata": {},
   "outputs": [],
   "source": [
    "rv."
   ]
  }
 ],
 "metadata": {
  "colab": {
   "collapsed_sections": [],
   "name": "aula01_Pesquisa_Dados.ipynb",
   "provenance": [],
   "toc_visible": true,
   "version": "0.3.2"
  },
  "kernelspec": {
   "display_name": "Python 3",
   "language": "python",
   "name": "python3"
  },
  "language_info": {
   "codemirror_mode": {
    "name": "ipython",
    "version": 3
   },
   "file_extension": ".py",
   "mimetype": "text/x-python",
   "name": "python",
   "nbconvert_exporter": "python",
   "pygments_lexer": "ipython3",
   "version": "3.7.3"
  }
 },
 "nbformat": 4,
 "nbformat_minor": 2
}
